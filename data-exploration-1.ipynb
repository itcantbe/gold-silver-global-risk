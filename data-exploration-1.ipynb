{
 "cells": [
  {
   "cell_type": "code",
   "execution_count": 1,
   "id": "e25f6e33",
   "metadata": {},
   "outputs": [],
   "source": [
    "import pandas as pd\n",
    "import plotly.graph_objects as go\n",
    "import plotly.express as px\n",
    "import numpy as np\n",
    "from pandas.plotting import scatter_matrix"
   ]
  },
  {
   "cell_type": "code",
   "execution_count": 2,
   "id": "19a9e9ff",
   "metadata": {},
   "outputs": [
    {
     "data": {
      "application/vnd.microsoft.datawrangler.viewer.v0+json": {
       "columns": [
        {
         "name": "Date",
         "rawType": "datetime64[ns]",
         "type": "datetime"
        },
        {
         "name": "Price",
         "rawType": "float64",
         "type": "float"
        },
        {
         "name": "Open",
         "rawType": "float64",
         "type": "float"
        },
        {
         "name": "High",
         "rawType": "float64",
         "type": "float"
        },
        {
         "name": "Low",
         "rawType": "float64",
         "type": "float"
        },
        {
         "name": "Vol.",
         "rawType": "object",
         "type": "string"
        },
        {
         "name": "Change",
         "rawType": "object",
         "type": "string"
        }
       ],
       "ref": "c8c3fcab-afed-481e-8d3d-7f6fa9264ba8",
       "rows": [
        [
         "2006-01-03 00:00:00",
         "532.5",
         "519.9",
         "532.8",
         "517.6",
         "64.87K",
         "2.46%"
        ],
        [
         "2006-01-04 00:00:00",
         "535.6",
         "532.7",
         "537.7",
         "527.0",
         "69.33K",
         "0.58%"
        ],
        [
         "2006-01-05 00:00:00",
         "527.8",
         "536.3",
         "536.8",
         "524.0",
         "68.73K",
         "-1.46%"
        ],
        [
         "2006-01-06 00:00:00",
         "541.2",
         "527.8",
         "541.8",
         "524.5",
         "70.07K",
         "2.54%"
        ],
        [
         "2006-01-09 00:00:00",
         "550.5",
         "541.8",
         "551.3",
         "536.5",
         "88.71K",
         "1.72%"
        ]
       ],
       "shape": {
        "columns": 6,
        "rows": 5
       }
      },
      "text/html": [
       "<div>\n",
       "<style scoped>\n",
       "    .dataframe tbody tr th:only-of-type {\n",
       "        vertical-align: middle;\n",
       "    }\n",
       "\n",
       "    .dataframe tbody tr th {\n",
       "        vertical-align: top;\n",
       "    }\n",
       "\n",
       "    .dataframe thead th {\n",
       "        text-align: right;\n",
       "    }\n",
       "</style>\n",
       "<table border=\"1\" class=\"dataframe\">\n",
       "  <thead>\n",
       "    <tr style=\"text-align: right;\">\n",
       "      <th></th>\n",
       "      <th>Price</th>\n",
       "      <th>Open</th>\n",
       "      <th>High</th>\n",
       "      <th>Low</th>\n",
       "      <th>Vol.</th>\n",
       "      <th>Change</th>\n",
       "    </tr>\n",
       "    <tr>\n",
       "      <th>Date</th>\n",
       "      <th></th>\n",
       "      <th></th>\n",
       "      <th></th>\n",
       "      <th></th>\n",
       "      <th></th>\n",
       "      <th></th>\n",
       "    </tr>\n",
       "  </thead>\n",
       "  <tbody>\n",
       "    <tr>\n",
       "      <th>2006-01-03</th>\n",
       "      <td>532.5</td>\n",
       "      <td>519.9</td>\n",
       "      <td>532.8</td>\n",
       "      <td>517.6</td>\n",
       "      <td>64.87K</td>\n",
       "      <td>2.46%</td>\n",
       "    </tr>\n",
       "    <tr>\n",
       "      <th>2006-01-04</th>\n",
       "      <td>535.6</td>\n",
       "      <td>532.7</td>\n",
       "      <td>537.7</td>\n",
       "      <td>527.0</td>\n",
       "      <td>69.33K</td>\n",
       "      <td>0.58%</td>\n",
       "    </tr>\n",
       "    <tr>\n",
       "      <th>2006-01-05</th>\n",
       "      <td>527.8</td>\n",
       "      <td>536.3</td>\n",
       "      <td>536.8</td>\n",
       "      <td>524.0</td>\n",
       "      <td>68.73K</td>\n",
       "      <td>-1.46%</td>\n",
       "    </tr>\n",
       "    <tr>\n",
       "      <th>2006-01-06</th>\n",
       "      <td>541.2</td>\n",
       "      <td>527.8</td>\n",
       "      <td>541.8</td>\n",
       "      <td>524.5</td>\n",
       "      <td>70.07K</td>\n",
       "      <td>2.54%</td>\n",
       "    </tr>\n",
       "    <tr>\n",
       "      <th>2006-01-09</th>\n",
       "      <td>550.5</td>\n",
       "      <td>541.8</td>\n",
       "      <td>551.3</td>\n",
       "      <td>536.5</td>\n",
       "      <td>88.71K</td>\n",
       "      <td>1.72%</td>\n",
       "    </tr>\n",
       "  </tbody>\n",
       "</table>\n",
       "</div>"
      ],
      "text/plain": [
       "            Price   Open   High    Low    Vol.  Change\n",
       "Date                                                  \n",
       "2006-01-03  532.5  519.9  532.8  517.6  64.87K   2.46%\n",
       "2006-01-04  535.6  532.7  537.7  527.0  69.33K   0.58%\n",
       "2006-01-05  527.8  536.3  536.8  524.0  68.73K  -1.46%\n",
       "2006-01-06  541.2  527.8  541.8  524.5  70.07K   2.54%\n",
       "2006-01-09  550.5  541.8  551.3  536.5  88.71K   1.72%"
      ]
     },
     "execution_count": 2,
     "metadata": {},
     "output_type": "execute_result"
    }
   ],
   "source": [
    "gold_df = pd.read_csv('data/gold.csv',parse_dates=[\"Date\"], index_col=\"Date\")\n",
    "gold_df = gold_df.sort_index(ascending=True)\n",
    "gold_df.head()"
   ]
  },
  {
   "cell_type": "code",
   "execution_count": 3,
   "id": "1801293f",
   "metadata": {},
   "outputs": [
    {
     "data": {
      "text/plain": [
       "' vix_df = pd.read_csv(\\'data/vix.csv\\',parse_dates=[\"Date\"], index_col=\"Date\")\\nvix_df = vix_df.sort_index(ascending=True)\\nvix_df.head() '"
      ]
     },
     "execution_count": 3,
     "metadata": {},
     "output_type": "execute_result"
    }
   ],
   "source": [
    "\"\"\" vix_df = pd.read_csv('data/vix.csv',parse_dates=[\"Date\"], index_col=\"Date\")\n",
    "vix_df = vix_df.sort_index(ascending=True)\n",
    "vix_df.head() \"\"\""
   ]
  },
  {
   "cell_type": "code",
   "execution_count": 4,
   "id": "b9b82e01",
   "metadata": {},
   "outputs": [
    {
     "data": {
      "application/vnd.microsoft.datawrangler.viewer.v0+json": {
       "columns": [
        {
         "name": "Date",
         "rawType": "datetime64[ns]",
         "type": "datetime"
        },
        {
         "name": "OFR FSI",
         "rawType": "float64",
         "type": "float"
        },
        {
         "name": "Credit",
         "rawType": "float64",
         "type": "float"
        },
        {
         "name": "Equity valuation",
         "rawType": "float64",
         "type": "float"
        },
        {
         "name": "Safe assets",
         "rawType": "float64",
         "type": "float"
        },
        {
         "name": "Funding",
         "rawType": "float64",
         "type": "float"
        },
        {
         "name": "Volatility",
         "rawType": "float64",
         "type": "float"
        },
        {
         "name": "United States",
         "rawType": "float64",
         "type": "float"
        },
        {
         "name": "Other advanced economies",
         "rawType": "float64",
         "type": "float"
        },
        {
         "name": "Emerging markets",
         "rawType": "float64",
         "type": "float"
        }
       ],
       "ref": "b62e20dd-51b2-4a13-9882-fd6dcc113929",
       "rows": [
        [
         "2000-01-03 00:00:00",
         "2.14",
         "0.54",
         "-0.051",
         "0.67",
         "0.472",
         "0.509",
         "1.769",
         "0.521",
         "-0.15"
        ],
        [
         "2000-01-04 00:00:00",
         "2.421",
         "0.604",
         "0.079",
         "0.627",
         "0.55",
         "0.561",
         "2.084",
         "0.474",
         "-0.137"
        ],
        [
         "2000-01-05 00:00:00",
         "2.297",
         "0.575",
         "0.08",
         "0.653",
         "0.501",
         "0.488",
         "2.023",
         "0.406",
         "-0.132"
        ],
        [
         "2000-01-06 00:00:00",
         "2.292",
         "0.546",
         "0.082",
         "0.581",
         "0.566",
         "0.517",
         "2.064",
         "0.355",
         "-0.127"
        ],
        [
         "2000-01-07 00:00:00",
         "2.005",
         "0.662",
         "-0.011",
         "0.519",
         "0.565",
         "0.27",
         "1.769",
         "0.367",
         "-0.131"
        ]
       ],
       "shape": {
        "columns": 9,
        "rows": 5
       }
      },
      "text/html": [
       "<div>\n",
       "<style scoped>\n",
       "    .dataframe tbody tr th:only-of-type {\n",
       "        vertical-align: middle;\n",
       "    }\n",
       "\n",
       "    .dataframe tbody tr th {\n",
       "        vertical-align: top;\n",
       "    }\n",
       "\n",
       "    .dataframe thead th {\n",
       "        text-align: right;\n",
       "    }\n",
       "</style>\n",
       "<table border=\"1\" class=\"dataframe\">\n",
       "  <thead>\n",
       "    <tr style=\"text-align: right;\">\n",
       "      <th></th>\n",
       "      <th>OFR FSI</th>\n",
       "      <th>Credit</th>\n",
       "      <th>Equity valuation</th>\n",
       "      <th>Safe assets</th>\n",
       "      <th>Funding</th>\n",
       "      <th>Volatility</th>\n",
       "      <th>United States</th>\n",
       "      <th>Other advanced economies</th>\n",
       "      <th>Emerging markets</th>\n",
       "    </tr>\n",
       "    <tr>\n",
       "      <th>Date</th>\n",
       "      <th></th>\n",
       "      <th></th>\n",
       "      <th></th>\n",
       "      <th></th>\n",
       "      <th></th>\n",
       "      <th></th>\n",
       "      <th></th>\n",
       "      <th></th>\n",
       "      <th></th>\n",
       "    </tr>\n",
       "  </thead>\n",
       "  <tbody>\n",
       "    <tr>\n",
       "      <th>2000-01-03</th>\n",
       "      <td>2.140</td>\n",
       "      <td>0.540</td>\n",
       "      <td>-0.051</td>\n",
       "      <td>0.670</td>\n",
       "      <td>0.472</td>\n",
       "      <td>0.509</td>\n",
       "      <td>1.769</td>\n",
       "      <td>0.521</td>\n",
       "      <td>-0.150</td>\n",
       "    </tr>\n",
       "    <tr>\n",
       "      <th>2000-01-04</th>\n",
       "      <td>2.421</td>\n",
       "      <td>0.604</td>\n",
       "      <td>0.079</td>\n",
       "      <td>0.627</td>\n",
       "      <td>0.550</td>\n",
       "      <td>0.561</td>\n",
       "      <td>2.084</td>\n",
       "      <td>0.474</td>\n",
       "      <td>-0.137</td>\n",
       "    </tr>\n",
       "    <tr>\n",
       "      <th>2000-01-05</th>\n",
       "      <td>2.297</td>\n",
       "      <td>0.575</td>\n",
       "      <td>0.080</td>\n",
       "      <td>0.653</td>\n",
       "      <td>0.501</td>\n",
       "      <td>0.488</td>\n",
       "      <td>2.023</td>\n",
       "      <td>0.406</td>\n",
       "      <td>-0.132</td>\n",
       "    </tr>\n",
       "    <tr>\n",
       "      <th>2000-01-06</th>\n",
       "      <td>2.292</td>\n",
       "      <td>0.546</td>\n",
       "      <td>0.082</td>\n",
       "      <td>0.581</td>\n",
       "      <td>0.566</td>\n",
       "      <td>0.517</td>\n",
       "      <td>2.064</td>\n",
       "      <td>0.355</td>\n",
       "      <td>-0.127</td>\n",
       "    </tr>\n",
       "    <tr>\n",
       "      <th>2000-01-07</th>\n",
       "      <td>2.005</td>\n",
       "      <td>0.662</td>\n",
       "      <td>-0.011</td>\n",
       "      <td>0.519</td>\n",
       "      <td>0.565</td>\n",
       "      <td>0.270</td>\n",
       "      <td>1.769</td>\n",
       "      <td>0.367</td>\n",
       "      <td>-0.131</td>\n",
       "    </tr>\n",
       "  </tbody>\n",
       "</table>\n",
       "</div>"
      ],
      "text/plain": [
       "            OFR FSI  Credit  Equity valuation  Safe assets  Funding  \\\n",
       "Date                                                                  \n",
       "2000-01-03    2.140   0.540            -0.051        0.670    0.472   \n",
       "2000-01-04    2.421   0.604             0.079        0.627    0.550   \n",
       "2000-01-05    2.297   0.575             0.080        0.653    0.501   \n",
       "2000-01-06    2.292   0.546             0.082        0.581    0.566   \n",
       "2000-01-07    2.005   0.662            -0.011        0.519    0.565   \n",
       "\n",
       "            Volatility  United States  Other advanced economies  \\\n",
       "Date                                                              \n",
       "2000-01-03       0.509          1.769                     0.521   \n",
       "2000-01-04       0.561          2.084                     0.474   \n",
       "2000-01-05       0.488          2.023                     0.406   \n",
       "2000-01-06       0.517          2.064                     0.355   \n",
       "2000-01-07       0.270          1.769                     0.367   \n",
       "\n",
       "            Emerging markets  \n",
       "Date                          \n",
       "2000-01-03            -0.150  \n",
       "2000-01-04            -0.137  \n",
       "2000-01-05            -0.132  \n",
       "2000-01-06            -0.127  \n",
       "2000-01-07            -0.131  "
      ]
     },
     "execution_count": 4,
     "metadata": {},
     "output_type": "execute_result"
    }
   ],
   "source": [
    "fsi_df = pd.read_csv('data/fsi.csv',parse_dates=[\"Date\"], index_col=\"Date\")\n",
    "fsi_df = fsi_df.sort_index(ascending=True)\n",
    "fsi_df.head()"
   ]
  },
  {
   "cell_type": "code",
   "execution_count": 5,
   "id": "4b55dc51",
   "metadata": {},
   "outputs": [
    {
     "data": {
      "application/vnd.microsoft.datawrangler.viewer.v0+json": {
       "columns": [
        {
         "name": "observation_date",
         "rawType": "datetime64[ns]",
         "type": "datetime"
        },
        {
         "name": "T10YIE",
         "rawType": "float64",
         "type": "float"
        }
       ],
       "ref": "1316172f-1edd-4ed9-960e-d2f3be606505",
       "rows": [
        [
         "2006-01-03 00:00:00",
         "2.34"
        ],
        [
         "2006-01-04 00:00:00",
         "2.35"
        ],
        [
         "2006-01-05 00:00:00",
         "2.32"
        ],
        [
         "2006-01-06 00:00:00",
         "2.33"
        ],
        [
         "2006-01-09 00:00:00",
         "2.33"
        ]
       ],
       "shape": {
        "columns": 1,
        "rows": 5
       }
      },
      "text/html": [
       "<div>\n",
       "<style scoped>\n",
       "    .dataframe tbody tr th:only-of-type {\n",
       "        vertical-align: middle;\n",
       "    }\n",
       "\n",
       "    .dataframe tbody tr th {\n",
       "        vertical-align: top;\n",
       "    }\n",
       "\n",
       "    .dataframe thead th {\n",
       "        text-align: right;\n",
       "    }\n",
       "</style>\n",
       "<table border=\"1\" class=\"dataframe\">\n",
       "  <thead>\n",
       "    <tr style=\"text-align: right;\">\n",
       "      <th></th>\n",
       "      <th>T10YIE</th>\n",
       "    </tr>\n",
       "    <tr>\n",
       "      <th>observation_date</th>\n",
       "      <th></th>\n",
       "    </tr>\n",
       "  </thead>\n",
       "  <tbody>\n",
       "    <tr>\n",
       "      <th>2006-01-03</th>\n",
       "      <td>2.34</td>\n",
       "    </tr>\n",
       "    <tr>\n",
       "      <th>2006-01-04</th>\n",
       "      <td>2.35</td>\n",
       "    </tr>\n",
       "    <tr>\n",
       "      <th>2006-01-05</th>\n",
       "      <td>2.32</td>\n",
       "    </tr>\n",
       "    <tr>\n",
       "      <th>2006-01-06</th>\n",
       "      <td>2.33</td>\n",
       "    </tr>\n",
       "    <tr>\n",
       "      <th>2006-01-09</th>\n",
       "      <td>2.33</td>\n",
       "    </tr>\n",
       "  </tbody>\n",
       "</table>\n",
       "</div>"
      ],
      "text/plain": [
       "                  T10YIE\n",
       "observation_date        \n",
       "2006-01-03          2.34\n",
       "2006-01-04          2.35\n",
       "2006-01-05          2.32\n",
       "2006-01-06          2.33\n",
       "2006-01-09          2.33"
      ]
     },
     "execution_count": 5,
     "metadata": {},
     "output_type": "execute_result"
    }
   ],
   "source": [
    "inf_df = pd.read_csv('data/inflation.csv',parse_dates=[\"observation_date\"], index_col=\"observation_date\")\n",
    "inf_df = inf_df.sort_index(ascending=True)\n",
    "inf_df.head()"
   ]
  },
  {
   "cell_type": "code",
   "execution_count": 6,
   "id": "34a4b8a8",
   "metadata": {},
   "outputs": [
    {
     "data": {
      "application/vnd.microsoft.datawrangler.viewer.v0+json": {
       "columns": [
        {
         "name": "observation_date",
         "rawType": "datetime64[ns]",
         "type": "datetime"
        },
        {
         "name": "DTWEXBGS",
         "rawType": "float64",
         "type": "float"
        }
       ],
       "ref": "781a66ae-e258-4184-9363-0d45414fedd2",
       "rows": [
        [
         "2006-01-02 00:00:00",
         "101.4155"
        ],
        [
         "2006-01-03 00:00:00",
         "100.7558"
        ],
        [
         "2006-01-04 00:00:00",
         "100.2288"
        ],
        [
         "2006-01-05 00:00:00",
         "100.2992"
        ],
        [
         "2006-01-06 00:00:00",
         "100.0241"
        ]
       ],
       "shape": {
        "columns": 1,
        "rows": 5
       }
      },
      "text/html": [
       "<div>\n",
       "<style scoped>\n",
       "    .dataframe tbody tr th:only-of-type {\n",
       "        vertical-align: middle;\n",
       "    }\n",
       "\n",
       "    .dataframe tbody tr th {\n",
       "        vertical-align: top;\n",
       "    }\n",
       "\n",
       "    .dataframe thead th {\n",
       "        text-align: right;\n",
       "    }\n",
       "</style>\n",
       "<table border=\"1\" class=\"dataframe\">\n",
       "  <thead>\n",
       "    <tr style=\"text-align: right;\">\n",
       "      <th></th>\n",
       "      <th>DTWEXBGS</th>\n",
       "    </tr>\n",
       "    <tr>\n",
       "      <th>observation_date</th>\n",
       "      <th></th>\n",
       "    </tr>\n",
       "  </thead>\n",
       "  <tbody>\n",
       "    <tr>\n",
       "      <th>2006-01-02</th>\n",
       "      <td>101.4155</td>\n",
       "    </tr>\n",
       "    <tr>\n",
       "      <th>2006-01-03</th>\n",
       "      <td>100.7558</td>\n",
       "    </tr>\n",
       "    <tr>\n",
       "      <th>2006-01-04</th>\n",
       "      <td>100.2288</td>\n",
       "    </tr>\n",
       "    <tr>\n",
       "      <th>2006-01-05</th>\n",
       "      <td>100.2992</td>\n",
       "    </tr>\n",
       "    <tr>\n",
       "      <th>2006-01-06</th>\n",
       "      <td>100.0241</td>\n",
       "    </tr>\n",
       "  </tbody>\n",
       "</table>\n",
       "</div>"
      ],
      "text/plain": [
       "                  DTWEXBGS\n",
       "observation_date          \n",
       "2006-01-02        101.4155\n",
       "2006-01-03        100.7558\n",
       "2006-01-04        100.2288\n",
       "2006-01-05        100.2992\n",
       "2006-01-06        100.0241"
      ]
     },
     "execution_count": 6,
     "metadata": {},
     "output_type": "execute_result"
    }
   ],
   "source": [
    "ds_df = pd.read_csv('data/dollar_strength.csv',parse_dates=[\"observation_date\"], index_col=\"observation_date\")\n",
    "ds_df = ds_df.sort_index(ascending=True)\n",
    "ds_df.head()"
   ]
  },
  {
   "cell_type": "code",
   "execution_count": 7,
   "id": "94abbc8d",
   "metadata": {},
   "outputs": [
    {
     "data": {
      "application/vnd.microsoft.datawrangler.viewer.v0+json": {
       "columns": [
        {
         "name": "observation_date",
         "rawType": "datetime64[ns]",
         "type": "datetime"
        },
        {
         "name": "MEDCPIM158SFRBCLE",
         "rawType": "float64",
         "type": "float"
        }
       ],
       "ref": "bb9099af-8d8a-474d-b1d4-a47f7353598f",
       "rows": [
        [
         "1983-01-01 00:00:00",
         "5.014653399852008"
        ],
        [
         "1983-02-01 00:00:00",
         "4.95254511658214"
        ],
        [
         "1983-03-01 00:00:00",
         "3.6122605557594314"
        ],
        [
         "1983-04-01 00:00:00",
         "4.82805415199952"
        ],
        [
         "1983-05-01 00:00:00",
         "3.76732629829308"
        ]
       ],
       "shape": {
        "columns": 1,
        "rows": 5
       }
      },
      "text/html": [
       "<div>\n",
       "<style scoped>\n",
       "    .dataframe tbody tr th:only-of-type {\n",
       "        vertical-align: middle;\n",
       "    }\n",
       "\n",
       "    .dataframe tbody tr th {\n",
       "        vertical-align: top;\n",
       "    }\n",
       "\n",
       "    .dataframe thead th {\n",
       "        text-align: right;\n",
       "    }\n",
       "</style>\n",
       "<table border=\"1\" class=\"dataframe\">\n",
       "  <thead>\n",
       "    <tr style=\"text-align: right;\">\n",
       "      <th></th>\n",
       "      <th>MEDCPIM158SFRBCLE</th>\n",
       "    </tr>\n",
       "    <tr>\n",
       "      <th>observation_date</th>\n",
       "      <th></th>\n",
       "    </tr>\n",
       "  </thead>\n",
       "  <tbody>\n",
       "    <tr>\n",
       "      <th>1983-01-01</th>\n",
       "      <td>5.014653</td>\n",
       "    </tr>\n",
       "    <tr>\n",
       "      <th>1983-02-01</th>\n",
       "      <td>4.952545</td>\n",
       "    </tr>\n",
       "    <tr>\n",
       "      <th>1983-03-01</th>\n",
       "      <td>3.612261</td>\n",
       "    </tr>\n",
       "    <tr>\n",
       "      <th>1983-04-01</th>\n",
       "      <td>4.828054</td>\n",
       "    </tr>\n",
       "    <tr>\n",
       "      <th>1983-05-01</th>\n",
       "      <td>3.767326</td>\n",
       "    </tr>\n",
       "  </tbody>\n",
       "</table>\n",
       "</div>"
      ],
      "text/plain": [
       "                  MEDCPIM158SFRBCLE\n",
       "observation_date                   \n",
       "1983-01-01                 5.014653\n",
       "1983-02-01                 4.952545\n",
       "1983-03-01                 3.612261\n",
       "1983-04-01                 4.828054\n",
       "1983-05-01                 3.767326"
      ]
     },
     "execution_count": 7,
     "metadata": {},
     "output_type": "execute_result"
    }
   ],
   "source": [
    "cpi_df = pd.read_csv('data/cpi.csv',parse_dates=[\"observation_date\"], index_col=\"observation_date\")\n",
    "cpi_df = cpi_df.sort_index(ascending=True)\n",
    "cpi_df.head()"
   ]
  },
  {
   "cell_type": "code",
   "execution_count": 8,
   "id": "eb434363",
   "metadata": {},
   "outputs": [
    {
     "data": {
      "application/vnd.microsoft.datawrangler.viewer.v0+json": {
       "columns": [
        {
         "name": "observation_date",
         "rawType": "datetime64[ns]",
         "type": "datetime"
        },
        {
         "name": "DGS10",
         "rawType": "float64",
         "type": "float"
        }
       ],
       "ref": "e488557b-cbe9-450d-9c2c-eeab41648020",
       "rows": [
        [
         "2006-01-03 00:00:00",
         "4.37"
        ],
        [
         "2006-01-04 00:00:00",
         "4.36"
        ],
        [
         "2006-01-05 00:00:00",
         "4.36"
        ],
        [
         "2006-01-06 00:00:00",
         "4.38"
        ],
        [
         "2006-01-09 00:00:00",
         "4.38"
        ]
       ],
       "shape": {
        "columns": 1,
        "rows": 5
       }
      },
      "text/html": [
       "<div>\n",
       "<style scoped>\n",
       "    .dataframe tbody tr th:only-of-type {\n",
       "        vertical-align: middle;\n",
       "    }\n",
       "\n",
       "    .dataframe tbody tr th {\n",
       "        vertical-align: top;\n",
       "    }\n",
       "\n",
       "    .dataframe thead th {\n",
       "        text-align: right;\n",
       "    }\n",
       "</style>\n",
       "<table border=\"1\" class=\"dataframe\">\n",
       "  <thead>\n",
       "    <tr style=\"text-align: right;\">\n",
       "      <th></th>\n",
       "      <th>DGS10</th>\n",
       "    </tr>\n",
       "    <tr>\n",
       "      <th>observation_date</th>\n",
       "      <th></th>\n",
       "    </tr>\n",
       "  </thead>\n",
       "  <tbody>\n",
       "    <tr>\n",
       "      <th>2006-01-03</th>\n",
       "      <td>4.37</td>\n",
       "    </tr>\n",
       "    <tr>\n",
       "      <th>2006-01-04</th>\n",
       "      <td>4.36</td>\n",
       "    </tr>\n",
       "    <tr>\n",
       "      <th>2006-01-05</th>\n",
       "      <td>4.36</td>\n",
       "    </tr>\n",
       "    <tr>\n",
       "      <th>2006-01-06</th>\n",
       "      <td>4.38</td>\n",
       "    </tr>\n",
       "    <tr>\n",
       "      <th>2006-01-09</th>\n",
       "      <td>4.38</td>\n",
       "    </tr>\n",
       "  </tbody>\n",
       "</table>\n",
       "</div>"
      ],
      "text/plain": [
       "                  DGS10\n",
       "observation_date       \n",
       "2006-01-03         4.37\n",
       "2006-01-04         4.36\n",
       "2006-01-05         4.36\n",
       "2006-01-06         4.38\n",
       "2006-01-09         4.38"
      ]
     },
     "execution_count": 8,
     "metadata": {},
     "output_type": "execute_result"
    }
   ],
   "source": [
    "b10_df = pd.read_csv('data/DGS10.csv',parse_dates=[\"observation_date\"], index_col=\"observation_date\")\n",
    "b10_df = b10_df.sort_index(ascending=True)\n",
    "b10_df.head()"
   ]
  },
  {
   "cell_type": "code",
   "execution_count": 9,
   "id": "1236b935",
   "metadata": {},
   "outputs": [
    {
     "data": {
      "text/plain": [
       "' vix_df = vix_df.drop([\\'Open\\', \\'High\\', \\'Low\\', \\'Vol.\\'], axis=1)\\ngold_df = pd.merge(gold_df,vix_df,left_index=True, right_index=True, how=\"left\")\\ndel vix_df '"
      ]
     },
     "execution_count": 9,
     "metadata": {},
     "output_type": "execute_result"
    }
   ],
   "source": [
    "\"\"\" vix_df = vix_df.drop(['Open', 'High', 'Low', 'Vol.'], axis=1)\n",
    "gold_df = pd.merge(gold_df,vix_df,left_index=True, right_index=True, how=\"left\")\n",
    "del vix_df \"\"\""
   ]
  },
  {
   "cell_type": "code",
   "execution_count": 10,
   "id": "7a77952e",
   "metadata": {},
   "outputs": [],
   "source": [
    "gold_df = pd.merge(gold_df,b10_df,left_index=True, right_index=True, how=\"left\")\n",
    "del b10_df"
   ]
  },
  {
   "cell_type": "code",
   "execution_count": 11,
   "id": "e7d17f15",
   "metadata": {},
   "outputs": [],
   "source": [
    "fsi_df = fsi_df.drop(['Credit', 'Equity valuation', 'Funding',\n",
    "       'Volatility', 'United States', 'Other advanced economies',\n",
    "       'Emerging markets'], axis=1)\n",
    "gold_df = pd.merge(gold_df,fsi_df,left_index=True, right_index=True, how=\"left\")\n",
    "del fsi_df"
   ]
  },
  {
   "cell_type": "code",
   "execution_count": 12,
   "id": "319dda0b",
   "metadata": {},
   "outputs": [],
   "source": [
    "gold_df = pd.merge(gold_df,cpi_df,left_index=True, right_index=True, how=\"left\")\n",
    "del cpi_df"
   ]
  },
  {
   "cell_type": "code",
   "execution_count": 13,
   "id": "405f3e00",
   "metadata": {},
   "outputs": [
    {
     "data": {
      "text/plain": [
       "' inf_df = inf_df.replace(\"-\", np.nan)\\nfull_range = pd.date_range(start=inf_df.index.min(), end=inf_df.index.max(), freq=\"D\")\\ninf_df = inf_df.reindex(full_range).ffill() '"
      ]
     },
     "execution_count": 13,
     "metadata": {},
     "output_type": "execute_result"
    }
   ],
   "source": [
    "\"\"\" inf_df = inf_df.replace(\"-\", np.nan)\n",
    "full_range = pd.date_range(start=inf_df.index.min(), end=inf_df.index.max(), freq=\"D\")\n",
    "inf_df = inf_df.reindex(full_range).ffill() \"\"\""
   ]
  },
  {
   "cell_type": "code",
   "execution_count": 14,
   "id": "46149663",
   "metadata": {},
   "outputs": [],
   "source": [
    "gold_df = pd.merge(gold_df,inf_df,left_index=True, right_index=True, how=\"left\")\n",
    "del inf_df"
   ]
  },
  {
   "cell_type": "code",
   "execution_count": 15,
   "id": "f0a0a043",
   "metadata": {},
   "outputs": [],
   "source": [
    "gold_df = pd.merge(gold_df,ds_df,left_index=True, right_index=True, how=\"left\")\n",
    "del ds_df"
   ]
  },
  {
   "cell_type": "code",
   "execution_count": 16,
   "id": "ff7e7cd5",
   "metadata": {},
   "outputs": [],
   "source": [
    "gold_df = gold_df.rename(columns={\"OFR FSI\":\"FSI\",\"Safe assets\":\"SAFE_ASSETS\",\"MEDCPIM158SFRBCLE\":\"CPI\",\"T10YIE\":\"INFLATION\",\"DTWEXBGS\":\"STRENGTH_INDEX\",\"DGS10\":\"BOND_YIELD\"})"
   ]
  },
  {
   "cell_type": "code",
   "execution_count": 17,
   "id": "6e9bcf31",
   "metadata": {},
   "outputs": [
    {
     "data": {
      "application/vnd.microsoft.datawrangler.viewer.v0+json": {
       "columns": [
        {
         "name": "index",
         "rawType": "object",
         "type": "string"
        },
        {
         "name": "Price",
         "rawType": "float64",
         "type": "float"
        },
        {
         "name": "Open",
         "rawType": "float64",
         "type": "float"
        },
        {
         "name": "High",
         "rawType": "float64",
         "type": "float"
        },
        {
         "name": "Low",
         "rawType": "float64",
         "type": "float"
        },
        {
         "name": "BOND_YIELD",
         "rawType": "float64",
         "type": "float"
        },
        {
         "name": "FSI",
         "rawType": "float64",
         "type": "float"
        },
        {
         "name": "SAFE_ASSETS",
         "rawType": "float64",
         "type": "float"
        },
        {
         "name": "CPI",
         "rawType": "float64",
         "type": "float"
        },
        {
         "name": "INFLATION",
         "rawType": "float64",
         "type": "float"
        },
        {
         "name": "STRENGTH_INDEX",
         "rawType": "float64",
         "type": "float"
        }
       ],
       "ref": "28905bbc-332f-48ce-9e3d-1dcb8d80283c",
       "rows": [
        [
         "count",
         "5021.0",
         "5021.0",
         "5021.0",
         "5021.0",
         "4873.0",
         "4923.0",
         "4923.0",
         "152.0",
         "4874.0",
         "4852.0"
        ],
        [
         "mean",
         "1456.3098446524598",
         "1456.2584744074884",
         "1467.315714001195",
         "1444.7406134236207",
         "2.8930309870716195",
         "-0.2460901675972805",
         "-0.03545408566995835",
         "2.898952702435066",
         "2.0718814115716047",
         "105.92370931574608"
        ],
        [
         "std",
         "557.7522558125961",
         "557.3792495503806",
         "561.232064917594",
         "553.671529744616",
         "1.1247913264159228",
         "4.375899097523537",
         "0.24763574700940183",
         "1.5412700024492247",
         "0.4028294773497252",
         "12.343142187804233"
        ],
        [
         "min",
         "527.8",
         "519.9",
         "532.8",
         "517.6",
         "0.52",
         "-5.334",
         "-0.547",
         "-0.286064246298046",
         "0.04",
         "85.4692"
        ],
        [
         "25%",
         "1165.4",
         "1165.4",
         "1173.4",
         "1156.2",
         "2.0",
         "-2.8365",
         "-0.234",
         "2.010759521011675",
         "1.83",
         "93.6598"
        ],
        [
         "50%",
         "1322.6",
         "1323.2",
         "1330.8",
         "1314.6",
         "2.74",
         "-1.46",
         "-0.08",
         "2.552080876378495",
         "2.18",
         "108.7861"
        ],
        [
         "75%",
         "1765.1",
         "1766.2",
         "1778.4",
         "1753.9",
         "3.82",
         "0.6716615222132053",
         "0.118",
         "3.3679824770605453",
         "2.34",
         "116.14552499999999"
        ],
        [
         "max",
         "3727.55",
         "3716.35",
         "3739.47",
         "3711.9",
         "5.26",
         "29.32",
         "1.267",
         "8.19157174501135",
         "3.02",
         "130.2142"
        ]
       ],
       "shape": {
        "columns": 10,
        "rows": 8
       }
      },
      "text/html": [
       "<div>\n",
       "<style scoped>\n",
       "    .dataframe tbody tr th:only-of-type {\n",
       "        vertical-align: middle;\n",
       "    }\n",
       "\n",
       "    .dataframe tbody tr th {\n",
       "        vertical-align: top;\n",
       "    }\n",
       "\n",
       "    .dataframe thead th {\n",
       "        text-align: right;\n",
       "    }\n",
       "</style>\n",
       "<table border=\"1\" class=\"dataframe\">\n",
       "  <thead>\n",
       "    <tr style=\"text-align: right;\">\n",
       "      <th></th>\n",
       "      <th>Price</th>\n",
       "      <th>Open</th>\n",
       "      <th>High</th>\n",
       "      <th>Low</th>\n",
       "      <th>BOND_YIELD</th>\n",
       "      <th>FSI</th>\n",
       "      <th>SAFE_ASSETS</th>\n",
       "      <th>CPI</th>\n",
       "      <th>INFLATION</th>\n",
       "      <th>STRENGTH_INDEX</th>\n",
       "    </tr>\n",
       "  </thead>\n",
       "  <tbody>\n",
       "    <tr>\n",
       "      <th>count</th>\n",
       "      <td>5021.000000</td>\n",
       "      <td>5021.000000</td>\n",
       "      <td>5021.000000</td>\n",
       "      <td>5021.000000</td>\n",
       "      <td>4873.000000</td>\n",
       "      <td>4923.000000</td>\n",
       "      <td>4923.000000</td>\n",
       "      <td>152.000000</td>\n",
       "      <td>4874.000000</td>\n",
       "      <td>4852.000000</td>\n",
       "    </tr>\n",
       "    <tr>\n",
       "      <th>mean</th>\n",
       "      <td>1456.309845</td>\n",
       "      <td>1456.258474</td>\n",
       "      <td>1467.315714</td>\n",
       "      <td>1444.740613</td>\n",
       "      <td>2.893031</td>\n",
       "      <td>-0.246090</td>\n",
       "      <td>-0.035454</td>\n",
       "      <td>2.898953</td>\n",
       "      <td>2.071881</td>\n",
       "      <td>105.923709</td>\n",
       "    </tr>\n",
       "    <tr>\n",
       "      <th>std</th>\n",
       "      <td>557.752256</td>\n",
       "      <td>557.379250</td>\n",
       "      <td>561.232065</td>\n",
       "      <td>553.671530</td>\n",
       "      <td>1.124791</td>\n",
       "      <td>4.375899</td>\n",
       "      <td>0.247636</td>\n",
       "      <td>1.541270</td>\n",
       "      <td>0.402829</td>\n",
       "      <td>12.343142</td>\n",
       "    </tr>\n",
       "    <tr>\n",
       "      <th>min</th>\n",
       "      <td>527.800000</td>\n",
       "      <td>519.900000</td>\n",
       "      <td>532.800000</td>\n",
       "      <td>517.600000</td>\n",
       "      <td>0.520000</td>\n",
       "      <td>-5.334000</td>\n",
       "      <td>-0.547000</td>\n",
       "      <td>-0.286064</td>\n",
       "      <td>0.040000</td>\n",
       "      <td>85.469200</td>\n",
       "    </tr>\n",
       "    <tr>\n",
       "      <th>25%</th>\n",
       "      <td>1165.400000</td>\n",
       "      <td>1165.400000</td>\n",
       "      <td>1173.400000</td>\n",
       "      <td>1156.200000</td>\n",
       "      <td>2.000000</td>\n",
       "      <td>-2.836500</td>\n",
       "      <td>-0.234000</td>\n",
       "      <td>2.010760</td>\n",
       "      <td>1.830000</td>\n",
       "      <td>93.659800</td>\n",
       "    </tr>\n",
       "    <tr>\n",
       "      <th>50%</th>\n",
       "      <td>1322.600000</td>\n",
       "      <td>1323.200000</td>\n",
       "      <td>1330.800000</td>\n",
       "      <td>1314.600000</td>\n",
       "      <td>2.740000</td>\n",
       "      <td>-1.460000</td>\n",
       "      <td>-0.080000</td>\n",
       "      <td>2.552081</td>\n",
       "      <td>2.180000</td>\n",
       "      <td>108.786100</td>\n",
       "    </tr>\n",
       "    <tr>\n",
       "      <th>75%</th>\n",
       "      <td>1765.100000</td>\n",
       "      <td>1766.200000</td>\n",
       "      <td>1778.400000</td>\n",
       "      <td>1753.900000</td>\n",
       "      <td>3.820000</td>\n",
       "      <td>0.671662</td>\n",
       "      <td>0.118000</td>\n",
       "      <td>3.367982</td>\n",
       "      <td>2.340000</td>\n",
       "      <td>116.145525</td>\n",
       "    </tr>\n",
       "    <tr>\n",
       "      <th>max</th>\n",
       "      <td>3727.550000</td>\n",
       "      <td>3716.350000</td>\n",
       "      <td>3739.470000</td>\n",
       "      <td>3711.900000</td>\n",
       "      <td>5.260000</td>\n",
       "      <td>29.320000</td>\n",
       "      <td>1.267000</td>\n",
       "      <td>8.191572</td>\n",
       "      <td>3.020000</td>\n",
       "      <td>130.214200</td>\n",
       "    </tr>\n",
       "  </tbody>\n",
       "</table>\n",
       "</div>"
      ],
      "text/plain": [
       "             Price         Open         High          Low   BOND_YIELD  \\\n",
       "count  5021.000000  5021.000000  5021.000000  5021.000000  4873.000000   \n",
       "mean   1456.309845  1456.258474  1467.315714  1444.740613     2.893031   \n",
       "std     557.752256   557.379250   561.232065   553.671530     1.124791   \n",
       "min     527.800000   519.900000   532.800000   517.600000     0.520000   \n",
       "25%    1165.400000  1165.400000  1173.400000  1156.200000     2.000000   \n",
       "50%    1322.600000  1323.200000  1330.800000  1314.600000     2.740000   \n",
       "75%    1765.100000  1766.200000  1778.400000  1753.900000     3.820000   \n",
       "max    3727.550000  3716.350000  3739.470000  3711.900000     5.260000   \n",
       "\n",
       "               FSI  SAFE_ASSETS         CPI    INFLATION  STRENGTH_INDEX  \n",
       "count  4923.000000  4923.000000  152.000000  4874.000000     4852.000000  \n",
       "mean     -0.246090    -0.035454    2.898953     2.071881      105.923709  \n",
       "std       4.375899     0.247636    1.541270     0.402829       12.343142  \n",
       "min      -5.334000    -0.547000   -0.286064     0.040000       85.469200  \n",
       "25%      -2.836500    -0.234000    2.010760     1.830000       93.659800  \n",
       "50%      -1.460000    -0.080000    2.552081     2.180000      108.786100  \n",
       "75%       0.671662     0.118000    3.367982     2.340000      116.145525  \n",
       "max      29.320000     1.267000    8.191572     3.020000      130.214200  "
      ]
     },
     "execution_count": 17,
     "metadata": {},
     "output_type": "execute_result"
    }
   ],
   "source": [
    "gold_df.describe()"
   ]
  },
  {
   "cell_type": "code",
   "execution_count": 18,
   "id": "c220b0a8",
   "metadata": {},
   "outputs": [
    {
     "name": "stdout",
     "output_type": "stream",
     "text": [
      "<class 'pandas.core.frame.DataFrame'>\n",
      "DatetimeIndex: 5021 entries, 2006-01-03 to 2025-09-16\n",
      "Data columns (total 12 columns):\n",
      " #   Column          Non-Null Count  Dtype  \n",
      "---  ------          --------------  -----  \n",
      " 0   Price           5021 non-null   float64\n",
      " 1   Open            5021 non-null   float64\n",
      " 2   High            5021 non-null   float64\n",
      " 3   Low             5021 non-null   float64\n",
      " 4   Vol.            5017 non-null   object \n",
      " 5   Change          5021 non-null   object \n",
      " 6   BOND_YIELD      4873 non-null   float64\n",
      " 7   FSI             4923 non-null   float64\n",
      " 8   SAFE_ASSETS     4923 non-null   float64\n",
      " 9   CPI             152 non-null    float64\n",
      " 10  INFLATION       4874 non-null   float64\n",
      " 11  STRENGTH_INDEX  4852 non-null   float64\n",
      "dtypes: float64(10), object(2)\n",
      "memory usage: 509.9+ KB\n"
     ]
    }
   ],
   "source": [
    "gold_df.info()"
   ]
  },
  {
   "cell_type": "code",
   "execution_count": 19,
   "id": "19895add",
   "metadata": {},
   "outputs": [],
   "source": [
    "cols_to_convert = [\"Change\"]\n",
    "gold_df[cols_to_convert] = gold_df[cols_to_convert].replace('%', '', regex=True).astype(float)\n",
    "\n",
    "cols_to_convert = [\"Vol.\"]\n",
    "gold_df[cols_to_convert] = gold_df[cols_to_convert].replace('K', '', regex=True).astype(float)"
   ]
  },
  {
   "cell_type": "code",
   "execution_count": 20,
   "id": "0ea5347f",
   "metadata": {},
   "outputs": [
    {
     "data": {
      "text/plain": [
       "' cols_to_convert = [\"BANK_RATE\",\"CRR\"]\\ngold_df[cols_to_convert] = gold_df[cols_to_convert].astype(float) '"
      ]
     },
     "execution_count": 20,
     "metadata": {},
     "output_type": "execute_result"
    }
   ],
   "source": [
    "\"\"\" cols_to_convert = [\"BANK_RATE\",\"CRR\"]\n",
    "gold_df[cols_to_convert] = gold_df[cols_to_convert].astype(float) \"\"\""
   ]
  },
  {
   "cell_type": "code",
   "execution_count": 21,
   "id": "e4ccedbc",
   "metadata": {},
   "outputs": [
    {
     "name": "stdout",
     "output_type": "stream",
     "text": [
      "<class 'pandas.core.frame.DataFrame'>\n",
      "DatetimeIndex: 5021 entries, 2006-01-03 to 2025-09-16\n",
      "Data columns (total 12 columns):\n",
      " #   Column          Non-Null Count  Dtype  \n",
      "---  ------          --------------  -----  \n",
      " 0   Price           5021 non-null   float64\n",
      " 1   Open            5021 non-null   float64\n",
      " 2   High            5021 non-null   float64\n",
      " 3   Low             5021 non-null   float64\n",
      " 4   Vol.            5017 non-null   float64\n",
      " 5   Change          5021 non-null   float64\n",
      " 6   BOND_YIELD      4873 non-null   float64\n",
      " 7   FSI             4923 non-null   float64\n",
      " 8   SAFE_ASSETS     4923 non-null   float64\n",
      " 9   CPI             152 non-null    float64\n",
      " 10  INFLATION       4874 non-null   float64\n",
      " 11  STRENGTH_INDEX  4852 non-null   float64\n",
      "dtypes: float64(12)\n",
      "memory usage: 509.9 KB\n"
     ]
    },
    {
     "name": "stderr",
     "output_type": "stream",
     "text": [
      "C:\\Users\\rohit\\AppData\\Local\\Temp\\ipykernel_24744\\2080978919.py:3: FutureWarning: The default fill_method='pad' in Series.pct_change is deprecated and will be removed in a future version. Either fill in any non-leading NA values prior to calling pct_change or specify 'fill_method=None' to not fill NA values.\n",
      "  gold_df[\"Vol.\"] = gold_df[\"Vol.\"].pct_change()\n"
     ]
    }
   ],
   "source": [
    "gold_df.info()\n",
    "gold_df[\"Change\"] = 100*gold_df[\"Change\"]\n",
    "gold_df[\"Vol.\"] = gold_df[\"Vol.\"].pct_change()\n",
    "gold_df[\"PREVIOUS_RANGE\"] = (gold_df.High - gold_df.Low).shift(1)\n",
    "gold_df[\"PREVIOUS_CHANGE\"] = gold_df.Price.diff().shift(1)\n",
    "\n",
    "\n",
    "gold_df.CPI = gold_df.CPI.ffill()\n",
    "\n",
    "gold_df = gold_df.drop(['Open','High','Low'],axis=1)\n"
   ]
  },
  {
   "cell_type": "code",
   "execution_count": 22,
   "id": "04f64990",
   "metadata": {},
   "outputs": [
    {
     "data": {
      "application/vnd.microsoft.datawrangler.viewer.v0+json": {
       "columns": [
        {
         "name": "index",
         "rawType": "object",
         "type": "string"
        },
        {
         "name": "Price",
         "rawType": "float64",
         "type": "float"
        },
        {
         "name": "Vol.",
         "rawType": "float64",
         "type": "float"
        },
        {
         "name": "Change",
         "rawType": "float64",
         "type": "float"
        },
        {
         "name": "BOND_YIELD",
         "rawType": "float64",
         "type": "float"
        },
        {
         "name": "FSI",
         "rawType": "float64",
         "type": "float"
        },
        {
         "name": "SAFE_ASSETS",
         "rawType": "float64",
         "type": "float"
        },
        {
         "name": "CPI",
         "rawType": "float64",
         "type": "float"
        },
        {
         "name": "INFLATION",
         "rawType": "float64",
         "type": "float"
        },
        {
         "name": "STRENGTH_INDEX",
         "rawType": "float64",
         "type": "float"
        },
        {
         "name": "PREVIOUS_RANGE",
         "rawType": "float64",
         "type": "float"
        },
        {
         "name": "PREVIOUS_CHANGE",
         "rawType": "float64",
         "type": "float"
        }
       ],
       "ref": "2918fb67-6a50-4ddc-8716-588357f1a64a",
       "rows": [
        [
         "Price",
         "1.0",
         "0.07110967297330623",
         "0.02357319913620582",
         "-0.08453399707359974",
         "-0.17631667570051882",
         "-0.40722644561201327",
         "0.3339297610505856",
         "0.19983896168306137",
         "0.5880586676729854",
         "0.48740681426619425",
         "0.0596866639562852"
        ],
        [
         "Vol.",
         "0.07110967297330623",
         "1.0",
         "0.010344910703746863",
         "0.008601228811519769",
         "-0.024190448573034228",
         "-0.03684422242889389",
         "0.039465353201837874",
         "0.012175388198009745",
         "0.0646068129848014",
         "-0.022836362192021304",
         "-0.0025039277832916295"
        ],
        [
         "Change",
         "0.02357319913620582",
         "0.010344910703746863",
         "1.0",
         "0.019584516107797552",
         "0.005329776297191064",
         "0.03672271595930862",
         "-0.0006075507890660242",
         "-0.012017308416093078",
         "0.011625675256575395",
         "-0.012114516083386775",
         "-0.015507996011922582"
        ],
        [
         "BOND_YIELD",
         "-0.08453399707359974",
         "0.008601228811519769",
         "0.019584516107797552",
         "1.0",
         "0.04906321204075541",
         "-0.09696155485967106",
         "0.1620418204483295",
         "0.45816680290323875",
         "-0.0796408784155408",
         "-0.03332781733983529",
         "0.022229861551516114"
        ],
        [
         "FSI",
         "-0.17631667570051882",
         "-0.024190448573034228",
         "0.005329776297191064",
         "0.04906321204075541",
         "1.0",
         "0.39991705765195323",
         "-0.14335404077817876",
         "-0.45879800600438053",
         "-0.22098347044590091",
         "0.21445689321877237",
         "3.521342853871771e-05"
        ],
        [
         "SAFE_ASSETS",
         "-0.40722644561201327",
         "-0.03684422242889389",
         "0.03672271595930862",
         "-0.09696155485967106",
         "0.39991705765195323",
         "1.0",
         "-0.2626595641558752",
         "-0.3366768935553436",
         "-0.368142745973102",
         "-0.0705862169600147",
         "0.01605694339242173"
        ],
        [
         "CPI",
         "0.3339297610505856",
         "0.039465353201837874",
         "-0.0006075507890660242",
         "0.1620418204483295",
         "-0.14335404077817876",
         "-0.2626595641558752",
         "1.0",
         "0.4011623427042292",
         "0.5210939616628326",
         "0.0963694212887377",
         "0.011580678962901164"
        ],
        [
         "INFLATION",
         "0.19983896168306137",
         "0.012175388198009745",
         "-0.012017308416093078",
         "0.45816680290323875",
         "-0.45879800600438053",
         "-0.3366768935553436",
         "0.4011623427042292",
         "1.0",
         "-0.12959179642222202",
         "-0.020625642521310897",
         "0.0029778497984491326"
        ],
        [
         "STRENGTH_INDEX",
         "0.5880586676729854",
         "0.0646068129848014",
         "0.011625675256575395",
         "-0.0796408784155408",
         "-0.22098347044590091",
         "-0.368142745973102",
         "0.5210939616628326",
         "-0.12959179642222202",
         "1.0",
         "0.1837694173466891",
         "0.019273292302544872"
        ],
        [
         "PREVIOUS_RANGE",
         "0.48740681426619425",
         "-0.022836362192021304",
         "-0.012114516083386775",
         "-0.03332781733983529",
         "0.21445689321877237",
         "-0.0705862169600147",
         "0.0963694212887377",
         "-0.020625642521310897",
         "0.1837694173466891",
         "1.0",
         "-0.08502533053408225"
        ],
        [
         "PREVIOUS_CHANGE",
         "0.0596866639562852",
         "-0.0025039277832916295",
         "-0.015507996011922582",
         "0.022229861551516114",
         "3.521342853871771e-05",
         "0.01605694339242173",
         "0.011580678962901164",
         "0.0029778497984491326",
         "0.019273292302544872",
         "-0.08502533053408225",
         "1.0"
        ]
       ],
       "shape": {
        "columns": 11,
        "rows": 11
       }
      },
      "text/html": [
       "<div>\n",
       "<style scoped>\n",
       "    .dataframe tbody tr th:only-of-type {\n",
       "        vertical-align: middle;\n",
       "    }\n",
       "\n",
       "    .dataframe tbody tr th {\n",
       "        vertical-align: top;\n",
       "    }\n",
       "\n",
       "    .dataframe thead th {\n",
       "        text-align: right;\n",
       "    }\n",
       "</style>\n",
       "<table border=\"1\" class=\"dataframe\">\n",
       "  <thead>\n",
       "    <tr style=\"text-align: right;\">\n",
       "      <th></th>\n",
       "      <th>Price</th>\n",
       "      <th>Vol.</th>\n",
       "      <th>Change</th>\n",
       "      <th>BOND_YIELD</th>\n",
       "      <th>FSI</th>\n",
       "      <th>SAFE_ASSETS</th>\n",
       "      <th>CPI</th>\n",
       "      <th>INFLATION</th>\n",
       "      <th>STRENGTH_INDEX</th>\n",
       "      <th>PREVIOUS_RANGE</th>\n",
       "      <th>PREVIOUS_CHANGE</th>\n",
       "    </tr>\n",
       "  </thead>\n",
       "  <tbody>\n",
       "    <tr>\n",
       "      <th>Price</th>\n",
       "      <td>1.000000</td>\n",
       "      <td>0.071110</td>\n",
       "      <td>0.023573</td>\n",
       "      <td>-0.084534</td>\n",
       "      <td>-0.176317</td>\n",
       "      <td>-0.407226</td>\n",
       "      <td>0.333930</td>\n",
       "      <td>0.199839</td>\n",
       "      <td>0.588059</td>\n",
       "      <td>0.487407</td>\n",
       "      <td>0.059687</td>\n",
       "    </tr>\n",
       "    <tr>\n",
       "      <th>Vol.</th>\n",
       "      <td>0.071110</td>\n",
       "      <td>1.000000</td>\n",
       "      <td>0.010345</td>\n",
       "      <td>0.008601</td>\n",
       "      <td>-0.024190</td>\n",
       "      <td>-0.036844</td>\n",
       "      <td>0.039465</td>\n",
       "      <td>0.012175</td>\n",
       "      <td>0.064607</td>\n",
       "      <td>-0.022836</td>\n",
       "      <td>-0.002504</td>\n",
       "    </tr>\n",
       "    <tr>\n",
       "      <th>Change</th>\n",
       "      <td>0.023573</td>\n",
       "      <td>0.010345</td>\n",
       "      <td>1.000000</td>\n",
       "      <td>0.019585</td>\n",
       "      <td>0.005330</td>\n",
       "      <td>0.036723</td>\n",
       "      <td>-0.000608</td>\n",
       "      <td>-0.012017</td>\n",
       "      <td>0.011626</td>\n",
       "      <td>-0.012115</td>\n",
       "      <td>-0.015508</td>\n",
       "    </tr>\n",
       "    <tr>\n",
       "      <th>BOND_YIELD</th>\n",
       "      <td>-0.084534</td>\n",
       "      <td>0.008601</td>\n",
       "      <td>0.019585</td>\n",
       "      <td>1.000000</td>\n",
       "      <td>0.049063</td>\n",
       "      <td>-0.096962</td>\n",
       "      <td>0.162042</td>\n",
       "      <td>0.458167</td>\n",
       "      <td>-0.079641</td>\n",
       "      <td>-0.033328</td>\n",
       "      <td>0.022230</td>\n",
       "    </tr>\n",
       "    <tr>\n",
       "      <th>FSI</th>\n",
       "      <td>-0.176317</td>\n",
       "      <td>-0.024190</td>\n",
       "      <td>0.005330</td>\n",
       "      <td>0.049063</td>\n",
       "      <td>1.000000</td>\n",
       "      <td>0.399917</td>\n",
       "      <td>-0.143354</td>\n",
       "      <td>-0.458798</td>\n",
       "      <td>-0.220983</td>\n",
       "      <td>0.214457</td>\n",
       "      <td>0.000035</td>\n",
       "    </tr>\n",
       "    <tr>\n",
       "      <th>SAFE_ASSETS</th>\n",
       "      <td>-0.407226</td>\n",
       "      <td>-0.036844</td>\n",
       "      <td>0.036723</td>\n",
       "      <td>-0.096962</td>\n",
       "      <td>0.399917</td>\n",
       "      <td>1.000000</td>\n",
       "      <td>-0.262660</td>\n",
       "      <td>-0.336677</td>\n",
       "      <td>-0.368143</td>\n",
       "      <td>-0.070586</td>\n",
       "      <td>0.016057</td>\n",
       "    </tr>\n",
       "    <tr>\n",
       "      <th>CPI</th>\n",
       "      <td>0.333930</td>\n",
       "      <td>0.039465</td>\n",
       "      <td>-0.000608</td>\n",
       "      <td>0.162042</td>\n",
       "      <td>-0.143354</td>\n",
       "      <td>-0.262660</td>\n",
       "      <td>1.000000</td>\n",
       "      <td>0.401162</td>\n",
       "      <td>0.521094</td>\n",
       "      <td>0.096369</td>\n",
       "      <td>0.011581</td>\n",
       "    </tr>\n",
       "    <tr>\n",
       "      <th>INFLATION</th>\n",
       "      <td>0.199839</td>\n",
       "      <td>0.012175</td>\n",
       "      <td>-0.012017</td>\n",
       "      <td>0.458167</td>\n",
       "      <td>-0.458798</td>\n",
       "      <td>-0.336677</td>\n",
       "      <td>0.401162</td>\n",
       "      <td>1.000000</td>\n",
       "      <td>-0.129592</td>\n",
       "      <td>-0.020626</td>\n",
       "      <td>0.002978</td>\n",
       "    </tr>\n",
       "    <tr>\n",
       "      <th>STRENGTH_INDEX</th>\n",
       "      <td>0.588059</td>\n",
       "      <td>0.064607</td>\n",
       "      <td>0.011626</td>\n",
       "      <td>-0.079641</td>\n",
       "      <td>-0.220983</td>\n",
       "      <td>-0.368143</td>\n",
       "      <td>0.521094</td>\n",
       "      <td>-0.129592</td>\n",
       "      <td>1.000000</td>\n",
       "      <td>0.183769</td>\n",
       "      <td>0.019273</td>\n",
       "    </tr>\n",
       "    <tr>\n",
       "      <th>PREVIOUS_RANGE</th>\n",
       "      <td>0.487407</td>\n",
       "      <td>-0.022836</td>\n",
       "      <td>-0.012115</td>\n",
       "      <td>-0.033328</td>\n",
       "      <td>0.214457</td>\n",
       "      <td>-0.070586</td>\n",
       "      <td>0.096369</td>\n",
       "      <td>-0.020626</td>\n",
       "      <td>0.183769</td>\n",
       "      <td>1.000000</td>\n",
       "      <td>-0.085025</td>\n",
       "    </tr>\n",
       "    <tr>\n",
       "      <th>PREVIOUS_CHANGE</th>\n",
       "      <td>0.059687</td>\n",
       "      <td>-0.002504</td>\n",
       "      <td>-0.015508</td>\n",
       "      <td>0.022230</td>\n",
       "      <td>0.000035</td>\n",
       "      <td>0.016057</td>\n",
       "      <td>0.011581</td>\n",
       "      <td>0.002978</td>\n",
       "      <td>0.019273</td>\n",
       "      <td>-0.085025</td>\n",
       "      <td>1.000000</td>\n",
       "    </tr>\n",
       "  </tbody>\n",
       "</table>\n",
       "</div>"
      ],
      "text/plain": [
       "                    Price      Vol.    Change  BOND_YIELD       FSI  \\\n",
       "Price            1.000000  0.071110  0.023573   -0.084534 -0.176317   \n",
       "Vol.             0.071110  1.000000  0.010345    0.008601 -0.024190   \n",
       "Change           0.023573  0.010345  1.000000    0.019585  0.005330   \n",
       "BOND_YIELD      -0.084534  0.008601  0.019585    1.000000  0.049063   \n",
       "FSI             -0.176317 -0.024190  0.005330    0.049063  1.000000   \n",
       "SAFE_ASSETS     -0.407226 -0.036844  0.036723   -0.096962  0.399917   \n",
       "CPI              0.333930  0.039465 -0.000608    0.162042 -0.143354   \n",
       "INFLATION        0.199839  0.012175 -0.012017    0.458167 -0.458798   \n",
       "STRENGTH_INDEX   0.588059  0.064607  0.011626   -0.079641 -0.220983   \n",
       "PREVIOUS_RANGE   0.487407 -0.022836 -0.012115   -0.033328  0.214457   \n",
       "PREVIOUS_CHANGE  0.059687 -0.002504 -0.015508    0.022230  0.000035   \n",
       "\n",
       "                 SAFE_ASSETS       CPI  INFLATION  STRENGTH_INDEX  \\\n",
       "Price              -0.407226  0.333930   0.199839        0.588059   \n",
       "Vol.               -0.036844  0.039465   0.012175        0.064607   \n",
       "Change              0.036723 -0.000608  -0.012017        0.011626   \n",
       "BOND_YIELD         -0.096962  0.162042   0.458167       -0.079641   \n",
       "FSI                 0.399917 -0.143354  -0.458798       -0.220983   \n",
       "SAFE_ASSETS         1.000000 -0.262660  -0.336677       -0.368143   \n",
       "CPI                -0.262660  1.000000   0.401162        0.521094   \n",
       "INFLATION          -0.336677  0.401162   1.000000       -0.129592   \n",
       "STRENGTH_INDEX     -0.368143  0.521094  -0.129592        1.000000   \n",
       "PREVIOUS_RANGE     -0.070586  0.096369  -0.020626        0.183769   \n",
       "PREVIOUS_CHANGE     0.016057  0.011581   0.002978        0.019273   \n",
       "\n",
       "                 PREVIOUS_RANGE  PREVIOUS_CHANGE  \n",
       "Price                  0.487407         0.059687  \n",
       "Vol.                  -0.022836        -0.002504  \n",
       "Change                -0.012115        -0.015508  \n",
       "BOND_YIELD            -0.033328         0.022230  \n",
       "FSI                    0.214457         0.000035  \n",
       "SAFE_ASSETS           -0.070586         0.016057  \n",
       "CPI                    0.096369         0.011581  \n",
       "INFLATION             -0.020626         0.002978  \n",
       "STRENGTH_INDEX         0.183769         0.019273  \n",
       "PREVIOUS_RANGE         1.000000        -0.085025  \n",
       "PREVIOUS_CHANGE       -0.085025         1.000000  "
      ]
     },
     "execution_count": 22,
     "metadata": {},
     "output_type": "execute_result"
    }
   ],
   "source": [
    "gold_df.corr()"
   ]
  },
  {
   "cell_type": "code",
   "execution_count": 23,
   "id": "49508586",
   "metadata": {},
   "outputs": [
    {
     "data": {
      "text/plain": [
       "array([[<Axes: title={'center': 'Price'}>,\n",
       "        <Axes: title={'center': 'Vol.'}>,\n",
       "        <Axes: title={'center': 'Change'}>],\n",
       "       [<Axes: title={'center': 'BOND_YIELD'}>,\n",
       "        <Axes: title={'center': 'FSI'}>,\n",
       "        <Axes: title={'center': 'SAFE_ASSETS'}>],\n",
       "       [<Axes: title={'center': 'CPI'}>,\n",
       "        <Axes: title={'center': 'INFLATION'}>,\n",
       "        <Axes: title={'center': 'STRENGTH_INDEX'}>],\n",
       "       [<Axes: title={'center': 'PREVIOUS_RANGE'}>,\n",
       "        <Axes: title={'center': 'PREVIOUS_CHANGE'}>, <Axes: >]],\n",
       "      dtype=object)"
      ]
     },
     "execution_count": 23,
     "metadata": {},
     "output_type": "execute_result"
    },
    {
     "data": {
      "image/png": "[encoded data removed]",
      "text/plain": [
       "<Figure size 2000x1500 with 12 Axes>"
      ]
     },
     "metadata": {},
     "output_type": "display_data"
    }
   ],
   "source": [
    "gold_df.hist(bins=50,figsize=(20,15))"
   ]
  },
  {
   "cell_type": "code",
   "execution_count": 24,
   "id": "01677cf6",
   "metadata": {},
   "outputs": [
    {
     "data": {
      "text/plain": [
       "\" fig = go.Figure(data=go.Splom(\\n                  dimensions=[dict(label='Price', values=gold_df['Price']),\\n                              dict(label='Change', values=gold_df['Change']),\\n                              dict(label='SAFE_ASSETS', values=gold_df['SAFE_ASSETS']),\\n                              dict(label='CPI', values=gold_df['CPI']),\\n                              dict(label='STRENGTH_INDEX', values=gold_df['STRENGTH_INDEX']),\\n                              dict(label='Vol.', values=gold_df['Vol.']),\\n                              dict(label='INFLATION', values=gold_df['INFLATION']),\\n                              dict(label='BOND_YIELD', values=gold_df['BOND_YIELD']),\\n                              dict(label='FSI', values=gold_df['FSI']),\\n                              dict(label='PREVIOUS_RANGE', values=gold_df['PREVIOUS_RANGE']),\\n                              dict(label='PREVIOUS_CHANGE', values=gold_df['PREVIOUS_CHANGE'])],\\n                  marker=dict(color=gold_df['Price'],\\n                              size=5,\\n                              colorscale='Bluered',\\n                              line=dict(width=0.5,\\n                                        color='rgb(230,230,230)')),\\n                  diagonal=dict(visible=False)))\\nfig.update_layout(title='Scatter Plot',\\n                  dragmode='select',\\n                  width=1000,\\n                  height=1000,\\n                  hovermode='closest')\\n\\nfig.show() \""
      ]
     },
     "execution_count": 24,
     "metadata": {},
     "output_type": "execute_result"
    }
   ],
   "source": [
    "\"\"\" fig = go.Figure(data=go.Splom(\n",
    "                  dimensions=[dict(label='Price', values=gold_df['Price']),\n",
    "                              dict(label='Change', values=gold_df['Change']),\n",
    "                              dict(label='SAFE_ASSETS', values=gold_df['SAFE_ASSETS']),\n",
    "                              dict(label='CPI', values=gold_df['CPI']),\n",
    "                              dict(label='STRENGTH_INDEX', values=gold_df['STRENGTH_INDEX']),\n",
    "                              dict(label='Vol.', values=gold_df['Vol.']),\n",
    "                              dict(label='INFLATION', values=gold_df['INFLATION']),\n",
    "                              dict(label='BOND_YIELD', values=gold_df['BOND_YIELD']),\n",
    "                              dict(label='FSI', values=gold_df['FSI']),\n",
    "                              dict(label='PREVIOUS_RANGE', values=gold_df['PREVIOUS_RANGE']),\n",
    "                              dict(label='PREVIOUS_CHANGE', values=gold_df['PREVIOUS_CHANGE'])],\n",
    "                  marker=dict(color=gold_df['Price'],\n",
    "                              size=5,\n",
    "                              colorscale='Bluered',\n",
    "                              line=dict(width=0.5,\n",
    "                                        color='rgb(230,230,230)')),\n",
    "                  diagonal=dict(visible=False)))\n",
    "fig.update_layout(title='Scatter Plot',\n",
    "                  dragmode='select',\n",
    "                  width=1000,\n",
    "                  height=1000,\n",
    "                  hovermode='closest')\n",
    "\n",
    "fig.show() \"\"\"\n"
   ]
  },
  {
   "cell_type": "code",
   "execution_count": 25,
   "id": "8beefcab",
   "metadata": {},
   "outputs": [
    {
     "data": {
      "text/plain": [
       "np.float64(0.9995459200151066)"
      ]
     },
     "execution_count": 25,
     "metadata": {},
     "output_type": "execute_result"
    }
   ],
   "source": [
    "gold_df.Price.autocorr()"
   ]
  },
  {
   "cell_type": "code",
   "execution_count": 26,
   "id": "8b379384",
   "metadata": {},
   "outputs": [],
   "source": [
    "gold_df[\"PREVIOUS_PRICE\"] = gold_df.Price.shift(1)"
   ]
  },
  {
   "cell_type": "code",
   "execution_count": 27,
   "id": "74ebe7a2",
   "metadata": {},
   "outputs": [
    {
     "data": {
      "application/vnd.microsoft.datawrangler.viewer.v0+json": {
       "columns": [
        {
         "name": "index",
         "rawType": "object",
         "type": "string"
        },
        {
         "name": "Price",
         "rawType": "float64",
         "type": "float"
        },
        {
         "name": "Vol.",
         "rawType": "float64",
         "type": "float"
        },
        {
         "name": "Change",
         "rawType": "float64",
         "type": "float"
        },
        {
         "name": "BOND_YIELD",
         "rawType": "float64",
         "type": "float"
        },
        {
         "name": "FSI",
         "rawType": "float64",
         "type": "float"
        },
        {
         "name": "SAFE_ASSETS",
         "rawType": "float64",
         "type": "float"
        },
        {
         "name": "CPI",
         "rawType": "float64",
         "type": "float"
        },
        {
         "name": "INFLATION",
         "rawType": "float64",
         "type": "float"
        },
        {
         "name": "STRENGTH_INDEX",
         "rawType": "float64",
         "type": "float"
        },
        {
         "name": "PREVIOUS_RANGE",
         "rawType": "float64",
         "type": "float"
        },
        {
         "name": "PREVIOUS_CHANGE",
         "rawType": "float64",
         "type": "float"
        },
        {
         "name": "PREVIOUS_PRICE",
         "rawType": "float64",
         "type": "float"
        }
       ],
       "ref": "96de2478-289a-4fc4-9b0e-8a9571f101c3",
       "rows": [
        [
         "Price",
         "1.0",
         "0.07110967297330623",
         "0.02357319913620582",
         "-0.08453399707359974",
         "-0.17631667570051882",
         "-0.40722644561201327",
         "0.3339297610505856",
         "0.19983896168306137",
         "0.5880586676729854",
         "0.48740681426619425",
         "0.0596866639562852",
         "0.9995459200151042"
        ],
        [
         "Vol.",
         "0.07110967297330623",
         "1.0",
         "0.010344910703746863",
         "0.008601228811519769",
         "-0.024190448573034228",
         "-0.03684422242889389",
         "0.039465353201837874",
         "0.012175388198009745",
         "0.0646068129848014",
         "-0.022836362192021304",
         "-0.0025039277832916295",
         "0.07068070880596168"
        ],
        [
         "Change",
         "0.02357319913620582",
         "0.010344910703746863",
         "1.0",
         "0.019584516107797552",
         "0.005329776297191064",
         "0.03672271595930862",
         "-0.0006075507890660242",
         "-0.012017308416093078",
         "0.011625675256575395",
         "-0.012114516083386775",
         "-0.015507996011922582",
         "-0.0032425173867968835"
        ],
        [
         "BOND_YIELD",
         "-0.08453399707359974",
         "0.008601228811519769",
         "0.019584516107797552",
         "1.0",
         "0.04906321204075541",
         "-0.09696155485967106",
         "0.1620418204483295",
         "0.45816680290323875",
         "-0.0796408784155408",
         "-0.03332781733983529",
         "0.022229861551516114",
         "-0.08497702337573665"
        ],
        [
         "FSI",
         "-0.17631667570051882",
         "-0.024190448573034228",
         "0.005329776297191064",
         "0.04906321204075541",
         "1.0",
         "0.39991705765195323",
         "-0.14335404077817876",
         "-0.45879800600438053",
         "-0.22098347044590091",
         "0.21445689321877237",
         "3.521342853871771e-05",
         "-0.1769009546108191"
        ],
        [
         "SAFE_ASSETS",
         "-0.40722644561201327",
         "-0.03684422242889389",
         "0.03672271595930862",
         "-0.09696155485967106",
         "0.39991705765195323",
         "1.0",
         "-0.2626595641558752",
         "-0.3366768935553436",
         "-0.368142745973102",
         "-0.0705862169600147",
         "0.01605694339242173",
         "-0.4083000808021011"
        ],
        [
         "CPI",
         "0.3339297610505856",
         "0.039465353201837874",
         "-0.0006075507890660242",
         "0.1620418204483295",
         "-0.14335404077817876",
         "-0.2626595641558752",
         "1.0",
         "0.4011623427042292",
         "0.5210939616628326",
         "0.0963694212887377",
         "0.011580678962901164",
         "0.3341688813145914"
        ],
        [
         "INFLATION",
         "0.19983896168306137",
         "0.012175388198009745",
         "-0.012017308416093078",
         "0.45816680290323875",
         "-0.45879800600438053",
         "-0.3366768935553436",
         "0.4011623427042292",
         "1.0",
         "-0.12959179642222202",
         "-0.020625642521310897",
         "0.0029778497984491326",
         "0.2004807186848998"
        ],
        [
         "STRENGTH_INDEX",
         "0.5880586676729854",
         "0.0646068129848014",
         "0.011625675256575395",
         "-0.0796408784155408",
         "-0.22098347044590091",
         "-0.368142745973102",
         "0.5210939616628326",
         "-0.12959179642222202",
         "1.0",
         "0.1837694173466891",
         "0.019273292302544872",
         "0.587938561761221"
        ],
        [
         "PREVIOUS_RANGE",
         "0.48740681426619425",
         "-0.022836362192021304",
         "-0.012114516083386775",
         "-0.03332781733983529",
         "0.21445689321877237",
         "-0.0705862169600147",
         "0.0963694212887377",
         "-0.020625642521310897",
         "0.1837694173466891",
         "1.0",
         "-0.08502533053408225",
         "0.488201500382954"
        ],
        [
         "PREVIOUS_CHANGE",
         "0.0596866639562852",
         "-0.0025039277832916295",
         "-0.015507996011922582",
         "0.022229861551516114",
         "3.521342853871771e-05",
         "0.01605694339242173",
         "0.011580678962901164",
         "0.0029778497984491326",
         "0.019273292302544872",
         "-0.08502533053408225",
         "1.0",
         "0.06040791558548141"
        ],
        [
         "PREVIOUS_PRICE",
         "0.9995459200151042",
         "0.07068070880596168",
         "-0.0032425173867968835",
         "-0.08497702337573665",
         "-0.1769009546108191",
         "-0.4083000808021011",
         "0.3341688813145914",
         "0.2004807186848998",
         "0.587938561761221",
         "0.488201500382954",
         "0.06040791558548141",
         "1.0"
        ]
       ],
       "shape": {
        "columns": 12,
        "rows": 12
       }
      },
      "text/html": [
       "<div>\n",
       "<style scoped>\n",
       "    .dataframe tbody tr th:only-of-type {\n",
       "        vertical-align: middle;\n",
       "    }\n",
       "\n",
       "    .dataframe tbody tr th {\n",
       "        vertical-align: top;\n",
       "    }\n",
       "\n",
       "    .dataframe thead th {\n",
       "        text-align: right;\n",
       "    }\n",
       "</style>\n",
       "<table border=\"1\" class=\"dataframe\">\n",
       "  <thead>\n",
       "    <tr style=\"text-align: right;\">\n",
       "      <th></th>\n",
       "      <th>Price</th>\n",
       "      <th>Vol.</th>\n",
       "      <th>Change</th>\n",
       "      <th>BOND_YIELD</th>\n",
       "      <th>FSI</th>\n",
       "      <th>SAFE_ASSETS</th>\n",
       "      <th>CPI</th>\n",
       "      <th>INFLATION</th>\n",
       "      <th>STRENGTH_INDEX</th>\n",
       "      <th>PREVIOUS_RANGE</th>\n",
       "      <th>PREVIOUS_CHANGE</th>\n",
       "      <th>PREVIOUS_PRICE</th>\n",
       "    </tr>\n",
       "  </thead>\n",
       "  <tbody>\n",
       "    <tr>\n",
       "      <th>Price</th>\n",
       "      <td>1.000000</td>\n",
       "      <td>0.071110</td>\n",
       "      <td>0.023573</td>\n",
       "      <td>-0.084534</td>\n",
       "      <td>-0.176317</td>\n",
       "      <td>-0.407226</td>\n",
       "      <td>0.333930</td>\n",
       "      <td>0.199839</td>\n",
       "      <td>0.588059</td>\n",
       "      <td>0.487407</td>\n",
       "      <td>0.059687</td>\n",
       "      <td>0.999546</td>\n",
       "    </tr>\n",
       "    <tr>\n",
       "      <th>Vol.</th>\n",
       "      <td>0.071110</td>\n",
       "      <td>1.000000</td>\n",
       "      <td>0.010345</td>\n",
       "      <td>0.008601</td>\n",
       "      <td>-0.024190</td>\n",
       "      <td>-0.036844</td>\n",
       "      <td>0.039465</td>\n",
       "      <td>0.012175</td>\n",
       "      <td>0.064607</td>\n",
       "      <td>-0.022836</td>\n",
       "      <td>-0.002504</td>\n",
       "      <td>0.070681</td>\n",
       "    </tr>\n",
       "    <tr>\n",
       "      <th>Change</th>\n",
       "      <td>0.023573</td>\n",
       "      <td>0.010345</td>\n",
       "      <td>1.000000</td>\n",
       "      <td>0.019585</td>\n",
       "      <td>0.005330</td>\n",
       "      <td>0.036723</td>\n",
       "      <td>-0.000608</td>\n",
       "      <td>-0.012017</td>\n",
       "      <td>0.011626</td>\n",
       "      <td>-0.012115</td>\n",
       "      <td>-0.015508</td>\n",
       "      <td>-0.003243</td>\n",
       "    </tr>\n",
       "    <tr>\n",
       "      <th>BOND_YIELD</th>\n",
       "      <td>-0.084534</td>\n",
       "      <td>0.008601</td>\n",
       "      <td>0.019585</td>\n",
       "      <td>1.000000</td>\n",
       "      <td>0.049063</td>\n",
       "      <td>-0.096962</td>\n",
       "      <td>0.162042</td>\n",
       "      <td>0.458167</td>\n",
       "      <td>-0.079641</td>\n",
       "      <td>-0.033328</td>\n",
       "      <td>0.022230</td>\n",
       "      <td>-0.084977</td>\n",
       "    </tr>\n",
       "    <tr>\n",
       "      <th>FSI</th>\n",
       "      <td>-0.176317</td>\n",
       "      <td>-0.024190</td>\n",
       "      <td>0.005330</td>\n",
       "      <td>0.049063</td>\n",
       "      <td>1.000000</td>\n",
       "      <td>0.399917</td>\n",
       "      <td>-0.143354</td>\n",
       "      <td>-0.458798</td>\n",
       "      <td>-0.220983</td>\n",
       "      <td>0.214457</td>\n",
       "      <td>0.000035</td>\n",
       "      <td>-0.176901</td>\n",
       "    </tr>\n",
       "    <tr>\n",
       "      <th>SAFE_ASSETS</th>\n",
       "      <td>-0.407226</td>\n",
       "      <td>-0.036844</td>\n",
       "      <td>0.036723</td>\n",
       "      <td>-0.096962</td>\n",
       "      <td>0.399917</td>\n",
       "      <td>1.000000</td>\n",
       "      <td>-0.262660</td>\n",
       "      <td>-0.336677</td>\n",
       "      <td>-0.368143</td>\n",
       "      <td>-0.070586</td>\n",
       "      <td>0.016057</td>\n",
       "      <td>-0.408300</td>\n",
       "    </tr>\n",
       "    <tr>\n",
       "      <th>CPI</th>\n",
       "      <td>0.333930</td>\n",
       "      <td>0.039465</td>\n",
       "      <td>-0.000608</td>\n",
       "      <td>0.162042</td>\n",
       "      <td>-0.143354</td>\n",
       "      <td>-0.262660</td>\n",
       "      <td>1.000000</td>\n",
       "      <td>0.401162</td>\n",
       "      <td>0.521094</td>\n",
       "      <td>0.096369</td>\n",
       "      <td>0.011581</td>\n",
       "      <td>0.334169</td>\n",
       "    </tr>\n",
       "    <tr>\n",
       "      <th>INFLATION</th>\n",
       "      <td>0.199839</td>\n",
       "      <td>0.012175</td>\n",
       "      <td>-0.012017</td>\n",
       "      <td>0.458167</td>\n",
       "      <td>-0.458798</td>\n",
       "      <td>-0.336677</td>\n",
       "      <td>0.401162</td>\n",
       "      <td>1.000000</td>\n",
       "      <td>-0.129592</td>\n",
       "      <td>-0.020626</td>\n",
       "      <td>0.002978</td>\n",
       "      <td>0.200481</td>\n",
       "    </tr>\n",
       "    <tr>\n",
       "      <th>STRENGTH_INDEX</th>\n",
       "      <td>0.588059</td>\n",
       "      <td>0.064607</td>\n",
       "      <td>0.011626</td>\n",
       "      <td>-0.079641</td>\n",
       "      <td>-0.220983</td>\n",
       "      <td>-0.368143</td>\n",
       "      <td>0.521094</td>\n",
       "      <td>-0.129592</td>\n",
       "      <td>1.000000</td>\n",
       "      <td>0.183769</td>\n",
       "      <td>0.019273</td>\n",
       "      <td>0.587939</td>\n",
       "    </tr>\n",
       "    <tr>\n",
       "      <th>PREVIOUS_RANGE</th>\n",
       "      <td>0.487407</td>\n",
       "      <td>-0.022836</td>\n",
       "      <td>-0.012115</td>\n",
       "      <td>-0.033328</td>\n",
       "      <td>0.214457</td>\n",
       "      <td>-0.070586</td>\n",
       "      <td>0.096369</td>\n",
       "      <td>-0.020626</td>\n",
       "      <td>0.183769</td>\n",
       "      <td>1.000000</td>\n",
       "      <td>-0.085025</td>\n",
       "      <td>0.488202</td>\n",
       "    </tr>\n",
       "    <tr>\n",
       "      <th>PREVIOUS_CHANGE</th>\n",
       "      <td>0.059687</td>\n",
       "      <td>-0.002504</td>\n",
       "      <td>-0.015508</td>\n",
       "      <td>0.022230</td>\n",
       "      <td>0.000035</td>\n",
       "      <td>0.016057</td>\n",
       "      <td>0.011581</td>\n",
       "      <td>0.002978</td>\n",
       "      <td>0.019273</td>\n",
       "      <td>-0.085025</td>\n",
       "      <td>1.000000</td>\n",
       "      <td>0.060408</td>\n",
       "    </tr>\n",
       "    <tr>\n",
       "      <th>PREVIOUS_PRICE</th>\n",
       "      <td>0.999546</td>\n",
       "      <td>0.070681</td>\n",
       "      <td>-0.003243</td>\n",
       "      <td>-0.084977</td>\n",
       "      <td>-0.176901</td>\n",
       "      <td>-0.408300</td>\n",
       "      <td>0.334169</td>\n",
       "      <td>0.200481</td>\n",
       "      <td>0.587939</td>\n",
       "      <td>0.488202</td>\n",
       "      <td>0.060408</td>\n",
       "      <td>1.000000</td>\n",
       "    </tr>\n",
       "  </tbody>\n",
       "</table>\n",
       "</div>"
      ],
      "text/plain": [
       "                    Price      Vol.    Change  BOND_YIELD       FSI  \\\n",
       "Price            1.000000  0.071110  0.023573   -0.084534 -0.176317   \n",
       "Vol.             0.071110  1.000000  0.010345    0.008601 -0.024190   \n",
       "Change           0.023573  0.010345  1.000000    0.019585  0.005330   \n",
       "BOND_YIELD      -0.084534  0.008601  0.019585    1.000000  0.049063   \n",
       "FSI             -0.176317 -0.024190  0.005330    0.049063  1.000000   \n",
       "SAFE_ASSETS     -0.407226 -0.036844  0.036723   -0.096962  0.399917   \n",
       "CPI              0.333930  0.039465 -0.000608    0.162042 -0.143354   \n",
       "INFLATION        0.199839  0.012175 -0.012017    0.458167 -0.458798   \n",
       "STRENGTH_INDEX   0.588059  0.064607  0.011626   -0.079641 -0.220983   \n",
       "PREVIOUS_RANGE   0.487407 -0.022836 -0.012115   -0.033328  0.214457   \n",
       "PREVIOUS_CHANGE  0.059687 -0.002504 -0.015508    0.022230  0.000035   \n",
       "PREVIOUS_PRICE   0.999546  0.070681 -0.003243   -0.084977 -0.176901   \n",
       "\n",
       "                 SAFE_ASSETS       CPI  INFLATION  STRENGTH_INDEX  \\\n",
       "Price              -0.407226  0.333930   0.199839        0.588059   \n",
       "Vol.               -0.036844  0.039465   0.012175        0.064607   \n",
       "Change              0.036723 -0.000608  -0.012017        0.011626   \n",
       "BOND_YIELD         -0.096962  0.162042   0.458167       -0.079641   \n",
       "FSI                 0.399917 -0.143354  -0.458798       -0.220983   \n",
       "SAFE_ASSETS         1.000000 -0.262660  -0.336677       -0.368143   \n",
       "CPI                -0.262660  1.000000   0.401162        0.521094   \n",
       "INFLATION          -0.336677  0.401162   1.000000       -0.129592   \n",
       "STRENGTH_INDEX     -0.368143  0.521094  -0.129592        1.000000   \n",
       "PREVIOUS_RANGE     -0.070586  0.096369  -0.020626        0.183769   \n",
       "PREVIOUS_CHANGE     0.016057  0.011581   0.002978        0.019273   \n",
       "PREVIOUS_PRICE     -0.408300  0.334169   0.200481        0.587939   \n",
       "\n",
       "                 PREVIOUS_RANGE  PREVIOUS_CHANGE  PREVIOUS_PRICE  \n",
       "Price                  0.487407         0.059687        0.999546  \n",
       "Vol.                  -0.022836        -0.002504        0.070681  \n",
       "Change                -0.012115        -0.015508       -0.003243  \n",
       "BOND_YIELD            -0.033328         0.022230       -0.084977  \n",
       "FSI                    0.214457         0.000035       -0.176901  \n",
       "SAFE_ASSETS           -0.070586         0.016057       -0.408300  \n",
       "CPI                    0.096369         0.011581        0.334169  \n",
       "INFLATION             -0.020626         0.002978        0.200481  \n",
       "STRENGTH_INDEX         0.183769         0.019273        0.587939  \n",
       "PREVIOUS_RANGE         1.000000        -0.085025        0.488202  \n",
       "PREVIOUS_CHANGE       -0.085025         1.000000        0.060408  \n",
       "PREVIOUS_PRICE         0.488202         0.060408        1.000000  "
      ]
     },
     "execution_count": 27,
     "metadata": {},
     "output_type": "execute_result"
    }
   ],
   "source": [
    "gold_df.corr()"
   ]
  },
  {
   "cell_type": "code",
   "execution_count": 28,
   "id": "e2a1f679",
   "metadata": {},
   "outputs": [
    {
     "data": {
      "text/plain": [
       "Index(['Price', 'Vol.', 'Change', 'BOND_YIELD', 'FSI', 'SAFE_ASSETS', 'CPI',\n",
       "       'INFLATION', 'STRENGTH_INDEX', 'PREVIOUS_RANGE', 'PREVIOUS_CHANGE',\n",
       "       'PREVIOUS_PRICE'],\n",
       "      dtype='object')"
      ]
     },
     "execution_count": 28,
     "metadata": {},
     "output_type": "execute_result"
    }
   ],
   "source": [
    "gold_df.columns"
   ]
  },
  {
   "cell_type": "code",
   "execution_count": 29,
   "id": "e9ebf219",
   "metadata": {},
   "outputs": [],
   "source": [
    "features = ['BOND_YIELD', 'FSI', 'SAFE_ASSETS', \n",
    "            'CPI', 'INFLATION', 'STRENGTH_INDEX', \n",
    "            'PREVIOUS_RANGE', 'PREVIOUS_CHANGE', 'PREVIOUS_PRICE']\n",
    "target = 'Change'\n",
    "X = gold_df[features]\n",
    "y = gold_df[target]"
   ]
  },
  {
   "cell_type": "code",
   "execution_count": 30,
   "id": "2537a40f",
   "metadata": {},
   "outputs": [],
   "source": [
    "from sklearn.model_selection import TimeSeriesSplit\n",
    "from sklearn.linear_model import RidgeCV, LassoCV\n",
    "from sklearn.metrics import root_mean_squared_error\n",
    "from sklearn.pipeline import Pipeline\n",
    "from sklearn.impute import SimpleImputer\n",
    "from sklearn.discriminant_analysis import StandardScaler\n",
    "\n",
    "from xgboost import XGBRegressor"
   ]
  },
  {
   "cell_type": "code",
   "execution_count": 31,
   "id": "567200b2",
   "metadata": {},
   "outputs": [],
   "source": [
    "tscv = TimeSeriesSplit(n_splits=5)\n",
    "\n",
    "def evaluate_model(model, X, y, name):\n",
    "    mse_scores = []\n",
    "    for train_idx, test_idx in tscv.split(X):\n",
    "        X_train, X_test = X.iloc[train_idx], X.iloc[test_idx]\n",
    "        y_train, y_test = y.iloc[train_idx], y.iloc[test_idx]\n",
    "        \n",
    "        model.fit(X_train, y_train)\n",
    "        y_pred = model.predict(X_test)\n",
    "        mse_scores.append(root_mean_squared_error(y_test, y_pred))\n",
    "    \n",
    "    print(f\"{name} Mean MSE: {np.mean(mse_scores):.4f}\")\n",
    "    print(y_pred-y_test)\n"
   ]
  },
  {
   "cell_type": "code",
   "execution_count": 32,
   "id": "bc87f78a",
   "metadata": {},
   "outputs": [
    {
     "name": "stdout",
     "output_type": "stream",
     "text": [
      "Ridge Linear Regression Mean MSE: 136.7621\n",
      "Date\n",
      "2022-06-21      1.532231\n",
      "2022-06-22    -12.843631\n",
      "2022-06-23     32.784364\n",
      "2022-06-24    -17.760647\n",
      "2022-06-27     18.353353\n",
      "                 ...    \n",
      "2025-09-11    -66.565674\n",
      "2025-09-12   -117.138213\n",
      "2025-09-14    -39.364063\n",
      "2025-09-15   -187.450336\n",
      "2025-09-16   -108.386355\n",
      "Name: Change, Length: 836, dtype: float64\n",
      "Lasso Linear Regression Mean MSE: 136.7621\n",
      "Date\n",
      "2022-06-21      1.532231\n",
      "2022-06-22    -12.843631\n",
      "2022-06-23     32.784364\n",
      "2022-06-24    -17.760647\n",
      "2022-06-27     18.353353\n",
      "                 ...    \n",
      "2025-09-11    -66.565674\n",
      "2025-09-12   -117.138213\n",
      "2025-09-14    -39.364063\n",
      "2025-09-15   -187.450336\n",
      "2025-09-16   -108.386355\n",
      "Name: Change, Length: 836, dtype: float64\n"
     ]
    }
   ],
   "source": [
    "ridge_pipeline = Pipeline([\n",
    "    (\"imputer\", SimpleImputer(strategy=\"mean\")),\n",
    "    (\"ridge\", RidgeCV())\n",
    "])\n",
    "\n",
    "evaluate_model(ridge_pipeline, X, y, \"Ridge Linear Regression\")\n",
    "\n",
    "lasso_pipeline = Pipeline([\n",
    "    (\"imputer\", SimpleImputer(strategy=\"mean\")),\n",
    "    (\"ridge\", LassoCV())\n",
    "])\n",
    "\n",
    "evaluate_model(ridge_pipeline, X, y, \"Lasso Linear Regression\")"
   ]
  },
  {
   "cell_type": "code",
   "execution_count": 33,
   "id": "36a0d260",
   "metadata": {},
   "outputs": [],
   "source": [
    "gold_df[\"price_rolling_mean_3_shift\"] = gold_df[\"Price\"].rolling(window=3).mean().shift(1)\n",
    "gold_df[\"price_rolling_std_3_shift\"] = gold_df[\"Price\"].rolling(window=3).std().shift(1)"
   ]
  },
  {
   "cell_type": "code",
   "execution_count": 34,
   "id": "6c810ca3",
   "metadata": {},
   "outputs": [
    {
     "data": {
      "application/vnd.microsoft.datawrangler.viewer.v0+json": {
       "columns": [
        {
         "name": "index",
         "rawType": "object",
         "type": "string"
        },
        {
         "name": "Price",
         "rawType": "float64",
         "type": "float"
        },
        {
         "name": "Vol.",
         "rawType": "float64",
         "type": "float"
        },
        {
         "name": "Change",
         "rawType": "float64",
         "type": "float"
        },
        {
         "name": "BOND_YIELD",
         "rawType": "float64",
         "type": "float"
        },
        {
         "name": "FSI",
         "rawType": "float64",
         "type": "float"
        },
        {
         "name": "SAFE_ASSETS",
         "rawType": "float64",
         "type": "float"
        },
        {
         "name": "CPI",
         "rawType": "float64",
         "type": "float"
        },
        {
         "name": "INFLATION",
         "rawType": "float64",
         "type": "float"
        },
        {
         "name": "STRENGTH_INDEX",
         "rawType": "float64",
         "type": "float"
        },
        {
         "name": "PREVIOUS_RANGE",
         "rawType": "float64",
         "type": "float"
        },
        {
         "name": "PREVIOUS_CHANGE",
         "rawType": "float64",
         "type": "float"
        },
        {
         "name": "PREVIOUS_PRICE",
         "rawType": "float64",
         "type": "float"
        },
        {
         "name": "price_rolling_mean_3_shift",
         "rawType": "float64",
         "type": "float"
        },
        {
         "name": "price_rolling_std_3_shift",
         "rawType": "float64",
         "type": "float"
        }
       ],
       "ref": "5099e456-0ee9-450f-954f-dd106d793203",
       "rows": [
        [
         "Price",
         "1.0",
         "0.07110967297330623",
         "0.02357319913620582",
         "-0.08453399707359974",
         "-0.17631667570051882",
         "-0.40722644561201327",
         "0.3339297610505856",
         "0.19983896168306137",
         "0.5880586676729854",
         "0.48740681426619425",
         "0.0596866639562852",
         "0.9995459200151042",
         "0.9993099778874266",
         "0.41611590464671283"
        ],
        [
         "Vol.",
         "0.07110967297330623",
         "1.0",
         "0.010344910703746863",
         "0.008601228811519769",
         "-0.024190448573034228",
         "-0.03684422242889389",
         "0.039465353201837874",
         "0.012175388198009745",
         "0.0646068129848014",
         "-0.022836362192021304",
         "-0.0025039277832916295",
         "0.07068070880596168",
         "0.07097890933348534",
         "-0.007383958423707389"
        ],
        [
         "Change",
         "0.02357319913620582",
         "0.010344910703746863",
         "1.0",
         "0.019584516107797552",
         "0.005329776297191064",
         "0.03672271595930862",
         "-0.0006075507890660242",
         "-0.012017308416093078",
         "0.011625675256575395",
         "-0.012114516083386775",
         "-0.015507996011922582",
         "-0.0032425173867968835",
         "-0.003197806850718313",
         "0.009677612278557717"
        ],
        [
         "BOND_YIELD",
         "-0.08453399707359974",
         "0.008601228811519769",
         "0.019584516107797552",
         "1.0",
         "0.04906321204075541",
         "-0.09696155485967106",
         "0.1620418204483295",
         "0.45816680290323875",
         "-0.0796408784155408",
         "-0.03332781733983529",
         "0.022229861551516114",
         "-0.08497702337573665",
         "-0.08492656092708413",
         "-0.003509393294936352"
        ],
        [
         "FSI",
         "-0.17631667570051882",
         "-0.024190448573034228",
         "0.005329776297191064",
         "0.04906321204075541",
         "1.0",
         "0.39991705765195323",
         "-0.14335404077817876",
         "-0.45879800600438053",
         "-0.22098347044590091",
         "0.21445689321877237",
         "3.521342853871771e-05",
         "-0.1769009546108191",
         "-0.1778079215719848",
         "0.15734025389964054"
        ],
        [
         "SAFE_ASSETS",
         "-0.40722644561201327",
         "-0.03684422242889389",
         "0.03672271595930862",
         "-0.09696155485967106",
         "0.39991705765195323",
         "1.0",
         "-0.2626595641558752",
         "-0.3366768935553436",
         "-0.368142745973102",
         "-0.0705862169600147",
         "0.01605694339242173",
         "-0.4083000808021011",
         "-0.40944696473859704",
         "-0.06517647438414718"
        ],
        [
         "CPI",
         "0.3339297610505856",
         "0.039465353201837874",
         "-0.0006075507890660242",
         "0.1620418204483295",
         "-0.14335404077817876",
         "-0.2626595641558752",
         "1.0",
         "0.4011623427042292",
         "0.5210939616628326",
         "0.0963694212887377",
         "0.011580678962901164",
         "0.3341688813145914",
         "0.33434856128408413",
         "0.07076958842078049"
        ],
        [
         "INFLATION",
         "0.19983896168306137",
         "0.012175388198009745",
         "-0.012017308416093078",
         "0.45816680290323875",
         "-0.45879800600438053",
         "-0.3366768935553436",
         "0.4011623427042292",
         "1.0",
         "-0.12959179642222202",
         "-0.020625642521310897",
         "0.0029778497984491326",
         "0.2004807186848998",
         "0.20126812201387015",
         "-0.001467944012027719"
        ],
        [
         "STRENGTH_INDEX",
         "0.5880586676729854",
         "0.0646068129848014",
         "0.011625675256575395",
         "-0.0796408784155408",
         "-0.22098347044590091",
         "-0.368142745973102",
         "0.5210939616628326",
         "-0.12959179642222202",
         "1.0",
         "0.1837694173466891",
         "0.019273292302544872",
         "0.587938561761221",
         "0.5881615030774174",
         "0.15901489312351733"
        ],
        [
         "PREVIOUS_RANGE",
         "0.48740681426619425",
         "-0.022836362192021304",
         "-0.012114516083386775",
         "-0.03332781733983529",
         "0.21445689321877237",
         "-0.0705862169600147",
         "0.0963694212887377",
         "-0.020625642521310897",
         "0.1837694173466891",
         "1.0",
         "-0.08502533053408225",
         "0.488201500382954",
         "0.4905358536940823",
         "0.7087053851878059"
        ],
        [
         "PREVIOUS_CHANGE",
         "0.0596866639562852",
         "-0.0025039277832916295",
         "-0.015507996011922582",
         "0.022229861551516114",
         "3.521342853871771e-05",
         "0.01605694339242173",
         "0.011580678962901164",
         "0.0029778497984491326",
         "0.019273292302544872",
         "-0.08502533053408225",
         "1.0",
         "0.06040791558548141",
         "0.04061635581279986",
         "-0.002645781745837283"
        ],
        [
         "PREVIOUS_PRICE",
         "0.9995459200151042",
         "0.07068070880596168",
         "-0.0032425173867968835",
         "-0.08497702337573665",
         "-0.1769009546108191",
         "-0.4083000808021011",
         "0.3341688813145914",
         "0.2004807186848998",
         "0.587938561761221",
         "0.488201500382954",
         "0.06040791558548141",
         "1.0",
         "0.9997518266098885",
         "0.41605094368157136"
        ],
        [
         "price_rolling_mean_3_shift",
         "0.9993099778874266",
         "0.07097890933348534",
         "-0.003197806850718313",
         "-0.08492656092708413",
         "-0.1778079215719848",
         "-0.40944696473859704",
         "0.33434856128408413",
         "0.20126812201387015",
         "0.5881615030774174",
         "0.4905358536940823",
         "0.04061635581279986",
         "0.9997518266098885",
         "1.0",
         "0.4168318927294162"
        ],
        [
         "price_rolling_std_3_shift",
         "0.41611590464671283",
         "-0.007383958423707389",
         "0.009677612278557717",
         "-0.003509393294936352",
         "0.15734025389964054",
         "-0.06517647438414718",
         "0.07076958842078049",
         "-0.001467944012027719",
         "0.15901489312351733",
         "0.7087053851878059",
         "-0.002645781745837283",
         "0.41605094368157136",
         "0.4168318927294162",
         "1.0"
        ]
       ],
       "shape": {
        "columns": 14,
        "rows": 14
       }
      },
      "text/html": [
       "<div>\n",
       "<style scoped>\n",
       "    .dataframe tbody tr th:only-of-type {\n",
       "        vertical-align: middle;\n",
       "    }\n",
       "\n",
       "    .dataframe tbody tr th {\n",
       "        vertical-align: top;\n",
       "    }\n",
       "\n",
       "    .dataframe thead th {\n",
       "        text-align: right;\n",
       "    }\n",
       "</style>\n",
       "<table border=\"1\" class=\"dataframe\">\n",
       "  <thead>\n",
       "    <tr style=\"text-align: right;\">\n",
       "      <th></th>\n",
       "      <th>Price</th>\n",
       "      <th>Vol.</th>\n",
       "      <th>Change</th>\n",
       "      <th>BOND_YIELD</th>\n",
       "      <th>FSI</th>\n",
       "      <th>SAFE_ASSETS</th>\n",
       "      <th>CPI</th>\n",
       "      <th>INFLATION</th>\n",
       "      <th>STRENGTH_INDEX</th>\n",
       "      <th>PREVIOUS_RANGE</th>\n",
       "      <th>PREVIOUS_CHANGE</th>\n",
       "      <th>PREVIOUS_PRICE</th>\n",
       "      <th>price_rolling_mean_3_shift</th>\n",
       "      <th>price_rolling_std_3_shift</th>\n",
       "    </tr>\n",
       "  </thead>\n",
       "  <tbody>\n",
       "    <tr>\n",
       "      <th>Price</th>\n",
       "      <td>1.000000</td>\n",
       "      <td>0.071110</td>\n",
       "      <td>0.023573</td>\n",
       "      <td>-0.084534</td>\n",
       "      <td>-0.176317</td>\n",
       "      <td>-0.407226</td>\n",
       "      <td>0.333930</td>\n",
       "      <td>0.199839</td>\n",
       "      <td>0.588059</td>\n",
       "      <td>0.487407</td>\n",
       "      <td>0.059687</td>\n",
       "      <td>0.999546</td>\n",
       "      <td>0.999310</td>\n",
       "      <td>0.416116</td>\n",
       "    </tr>\n",
       "    <tr>\n",
       "      <th>Vol.</th>\n",
       "      <td>0.071110</td>\n",
       "      <td>1.000000</td>\n",
       "      <td>0.010345</td>\n",
       "      <td>0.008601</td>\n",
       "      <td>-0.024190</td>\n",
       "      <td>-0.036844</td>\n",
       "      <td>0.039465</td>\n",
       "      <td>0.012175</td>\n",
       "      <td>0.064607</td>\n",
       "      <td>-0.022836</td>\n",
       "      <td>-0.002504</td>\n",
       "      <td>0.070681</td>\n",
       "      <td>0.070979</td>\n",
       "      <td>-0.007384</td>\n",
       "    </tr>\n",
       "    <tr>\n",
       "      <th>Change</th>\n",
       "      <td>0.023573</td>\n",
       "      <td>0.010345</td>\n",
       "      <td>1.000000</td>\n",
       "      <td>0.019585</td>\n",
       "      <td>0.005330</td>\n",
       "      <td>0.036723</td>\n",
       "      <td>-0.000608</td>\n",
       "      <td>-0.012017</td>\n",
       "      <td>0.011626</td>\n",
       "      <td>-0.012115</td>\n",
       "      <td>-0.015508</td>\n",
       "      <td>-0.003243</td>\n",
       "      <td>-0.003198</td>\n",
       "      <td>0.009678</td>\n",
       "    </tr>\n",
       "    <tr>\n",
       "      <th>BOND_YIELD</th>\n",
       "      <td>-0.084534</td>\n",
       "      <td>0.008601</td>\n",
       "      <td>0.019585</td>\n",
       "      <td>1.000000</td>\n",
       "      <td>0.049063</td>\n",
       "      <td>-0.096962</td>\n",
       "      <td>0.162042</td>\n",
       "      <td>0.458167</td>\n",
       "      <td>-0.079641</td>\n",
       "      <td>-0.033328</td>\n",
       "      <td>0.022230</td>\n",
       "      <td>-0.084977</td>\n",
       "      <td>-0.084927</td>\n",
       "      <td>-0.003509</td>\n",
       "    </tr>\n",
       "    <tr>\n",
       "      <th>FSI</th>\n",
       "      <td>-0.176317</td>\n",
       "      <td>-0.024190</td>\n",
       "      <td>0.005330</td>\n",
       "      <td>0.049063</td>\n",
       "      <td>1.000000</td>\n",
       "      <td>0.399917</td>\n",
       "      <td>-0.143354</td>\n",
       "      <td>-0.458798</td>\n",
       "      <td>-0.220983</td>\n",
       "      <td>0.214457</td>\n",
       "      <td>0.000035</td>\n",
       "      <td>-0.176901</td>\n",
       "      <td>-0.177808</td>\n",
       "      <td>0.157340</td>\n",
       "    </tr>\n",
       "    <tr>\n",
       "      <th>SAFE_ASSETS</th>\n",
       "      <td>-0.407226</td>\n",
       "      <td>-0.036844</td>\n",
       "      <td>0.036723</td>\n",
       "      <td>-0.096962</td>\n",
       "      <td>0.399917</td>\n",
       "      <td>1.000000</td>\n",
       "      <td>-0.262660</td>\n",
       "      <td>-0.336677</td>\n",
       "      <td>-0.368143</td>\n",
       "      <td>-0.070586</td>\n",
       "      <td>0.016057</td>\n",
       "      <td>-0.408300</td>\n",
       "      <td>-0.409447</td>\n",
       "      <td>-0.065176</td>\n",
       "    </tr>\n",
       "    <tr>\n",
       "      <th>CPI</th>\n",
       "      <td>0.333930</td>\n",
       "      <td>0.039465</td>\n",
       "      <td>-0.000608</td>\n",
       "      <td>0.162042</td>\n",
       "      <td>-0.143354</td>\n",
       "      <td>-0.262660</td>\n",
       "      <td>1.000000</td>\n",
       "      <td>0.401162</td>\n",
       "      <td>0.521094</td>\n",
       "      <td>0.096369</td>\n",
       "      <td>0.011581</td>\n",
       "      <td>0.334169</td>\n",
       "      <td>0.334349</td>\n",
       "      <td>0.070770</td>\n",
       "    </tr>\n",
       "    <tr>\n",
       "      <th>INFLATION</th>\n",
       "      <td>0.199839</td>\n",
       "      <td>0.012175</td>\n",
       "      <td>-0.012017</td>\n",
       "      <td>0.458167</td>\n",
       "      <td>-0.458798</td>\n",
       "      <td>-0.336677</td>\n",
       "      <td>0.401162</td>\n",
       "      <td>1.000000</td>\n",
       "      <td>-0.129592</td>\n",
       "      <td>-0.020626</td>\n",
       "      <td>0.002978</td>\n",
       "      <td>0.200481</td>\n",
       "      <td>0.201268</td>\n",
       "      <td>-0.001468</td>\n",
       "    </tr>\n",
       "    <tr>\n",
       "      <th>STRENGTH_INDEX</th>\n",
       "      <td>0.588059</td>\n",
       "      <td>0.064607</td>\n",
       "      <td>0.011626</td>\n",
       "      <td>-0.079641</td>\n",
       "      <td>-0.220983</td>\n",
       "      <td>-0.368143</td>\n",
       "      <td>0.521094</td>\n",
       "      <td>-0.129592</td>\n",
       "      <td>1.000000</td>\n",
       "      <td>0.183769</td>\n",
       "      <td>0.019273</td>\n",
       "      <td>0.587939</td>\n",
       "      <td>0.588162</td>\n",
       "      <td>0.159015</td>\n",
       "    </tr>\n",
       "    <tr>\n",
       "      <th>PREVIOUS_RANGE</th>\n",
       "      <td>0.487407</td>\n",
       "      <td>-0.022836</td>\n",
       "      <td>-0.012115</td>\n",
       "      <td>-0.033328</td>\n",
       "      <td>0.214457</td>\n",
       "      <td>-0.070586</td>\n",
       "      <td>0.096369</td>\n",
       "      <td>-0.020626</td>\n",
       "      <td>0.183769</td>\n",
       "      <td>1.000000</td>\n",
       "      <td>-0.085025</td>\n",
       "      <td>0.488202</td>\n",
       "      <td>0.490536</td>\n",
       "      <td>0.708705</td>\n",
       "    </tr>\n",
       "    <tr>\n",
       "      <th>PREVIOUS_CHANGE</th>\n",
       "      <td>0.059687</td>\n",
       "      <td>-0.002504</td>\n",
       "      <td>-0.015508</td>\n",
       "      <td>0.022230</td>\n",
       "      <td>0.000035</td>\n",
       "      <td>0.016057</td>\n",
       "      <td>0.011581</td>\n",
       "      <td>0.002978</td>\n",
       "      <td>0.019273</td>\n",
       "      <td>-0.085025</td>\n",
       "      <td>1.000000</td>\n",
       "      <td>0.060408</td>\n",
       "      <td>0.040616</td>\n",
       "      <td>-0.002646</td>\n",
       "    </tr>\n",
       "    <tr>\n",
       "      <th>PREVIOUS_PRICE</th>\n",
       "      <td>0.999546</td>\n",
       "      <td>0.070681</td>\n",
       "      <td>-0.003243</td>\n",
       "      <td>-0.084977</td>\n",
       "      <td>-0.176901</td>\n",
       "      <td>-0.408300</td>\n",
       "      <td>0.334169</td>\n",
       "      <td>0.200481</td>\n",
       "      <td>0.587939</td>\n",
       "      <td>0.488202</td>\n",
       "      <td>0.060408</td>\n",
       "      <td>1.000000</td>\n",
       "      <td>0.999752</td>\n",
       "      <td>0.416051</td>\n",
       "    </tr>\n",
       "    <tr>\n",
       "      <th>price_rolling_mean_3_shift</th>\n",
       "      <td>0.999310</td>\n",
       "      <td>0.070979</td>\n",
       "      <td>-0.003198</td>\n",
       "      <td>-0.084927</td>\n",
       "      <td>-0.177808</td>\n",
       "      <td>-0.409447</td>\n",
       "      <td>0.334349</td>\n",
       "      <td>0.201268</td>\n",
       "      <td>0.588162</td>\n",
       "      <td>0.490536</td>\n",
       "      <td>0.040616</td>\n",
       "      <td>0.999752</td>\n",
       "      <td>1.000000</td>\n",
       "      <td>0.416832</td>\n",
       "    </tr>\n",
       "    <tr>\n",
       "      <th>price_rolling_std_3_shift</th>\n",
       "      <td>0.416116</td>\n",
       "      <td>-0.007384</td>\n",
       "      <td>0.009678</td>\n",
       "      <td>-0.003509</td>\n",
       "      <td>0.157340</td>\n",
       "      <td>-0.065176</td>\n",
       "      <td>0.070770</td>\n",
       "      <td>-0.001468</td>\n",
       "      <td>0.159015</td>\n",
       "      <td>0.708705</td>\n",
       "      <td>-0.002646</td>\n",
       "      <td>0.416051</td>\n",
       "      <td>0.416832</td>\n",
       "      <td>1.000000</td>\n",
       "    </tr>\n",
       "  </tbody>\n",
       "</table>\n",
       "</div>"
      ],
      "text/plain": [
       "                               Price      Vol.    Change  BOND_YIELD  \\\n",
       "Price                       1.000000  0.071110  0.023573   -0.084534   \n",
       "Vol.                        0.071110  1.000000  0.010345    0.008601   \n",
       "Change                      0.023573  0.010345  1.000000    0.019585   \n",
       "BOND_YIELD                 -0.084534  0.008601  0.019585    1.000000   \n",
       "FSI                        -0.176317 -0.024190  0.005330    0.049063   \n",
       "SAFE_ASSETS                -0.407226 -0.036844  0.036723   -0.096962   \n",
       "CPI                         0.333930  0.039465 -0.000608    0.162042   \n",
       "INFLATION                   0.199839  0.012175 -0.012017    0.458167   \n",
       "STRENGTH_INDEX              0.588059  0.064607  0.011626   -0.079641   \n",
       "PREVIOUS_RANGE              0.487407 -0.022836 -0.012115   -0.033328   \n",
       "PREVIOUS_CHANGE             0.059687 -0.002504 -0.015508    0.022230   \n",
       "PREVIOUS_PRICE              0.999546  0.070681 -0.003243   -0.084977   \n",
       "price_rolling_mean_3_shift  0.999310  0.070979 -0.003198   -0.084927   \n",
       "price_rolling_std_3_shift   0.416116 -0.007384  0.009678   -0.003509   \n",
       "\n",
       "                                 FSI  SAFE_ASSETS       CPI  INFLATION  \\\n",
       "Price                      -0.176317    -0.407226  0.333930   0.199839   \n",
       "Vol.                       -0.024190    -0.036844  0.039465   0.012175   \n",
       "Change                      0.005330     0.036723 -0.000608  -0.012017   \n",
       "BOND_YIELD                  0.049063    -0.096962  0.162042   0.458167   \n",
       "FSI                         1.000000     0.399917 -0.143354  -0.458798   \n",
       "SAFE_ASSETS                 0.399917     1.000000 -0.262660  -0.336677   \n",
       "CPI                        -0.143354    -0.262660  1.000000   0.401162   \n",
       "INFLATION                  -0.458798    -0.336677  0.401162   1.000000   \n",
       "STRENGTH_INDEX             -0.220983    -0.368143  0.521094  -0.129592   \n",
       "PREVIOUS_RANGE              0.214457    -0.070586  0.096369  -0.020626   \n",
       "PREVIOUS_CHANGE             0.000035     0.016057  0.011581   0.002978   \n",
       "PREVIOUS_PRICE             -0.176901    -0.408300  0.334169   0.200481   \n",
       "price_rolling_mean_3_shift -0.177808    -0.409447  0.334349   0.201268   \n",
       "price_rolling_std_3_shift   0.157340    -0.065176  0.070770  -0.001468   \n",
       "\n",
       "                            STRENGTH_INDEX  PREVIOUS_RANGE  PREVIOUS_CHANGE  \\\n",
       "Price                             0.588059        0.487407         0.059687   \n",
       "Vol.                              0.064607       -0.022836        -0.002504   \n",
       "Change                            0.011626       -0.012115        -0.015508   \n",
       "BOND_YIELD                       -0.079641       -0.033328         0.022230   \n",
       "FSI                              -0.220983        0.214457         0.000035   \n",
       "SAFE_ASSETS                      -0.368143       -0.070586         0.016057   \n",
       "CPI                               0.521094        0.096369         0.011581   \n",
       "INFLATION                        -0.129592       -0.020626         0.002978   \n",
       "STRENGTH_INDEX                    1.000000        0.183769         0.019273   \n",
       "PREVIOUS_RANGE                    0.183769        1.000000        -0.085025   \n",
       "PREVIOUS_CHANGE                   0.019273       -0.085025         1.000000   \n",
       "PREVIOUS_PRICE                    0.587939        0.488202         0.060408   \n",
       "price_rolling_mean_3_shift        0.588162        0.490536         0.040616   \n",
       "price_rolling_std_3_shift         0.159015        0.708705        -0.002646   \n",
       "\n",
       "                            PREVIOUS_PRICE  price_rolling_mean_3_shift  \\\n",
       "Price                             0.999546                    0.999310   \n",
       "Vol.                              0.070681                    0.070979   \n",
       "Change                           -0.003243                   -0.003198   \n",
       "BOND_YIELD                       -0.084977                   -0.084927   \n",
       "FSI                              -0.176901                   -0.177808   \n",
       "SAFE_ASSETS                      -0.408300                   -0.409447   \n",
       "CPI                               0.334169                    0.334349   \n",
       "INFLATION                         0.200481                    0.201268   \n",
       "STRENGTH_INDEX                    0.587939                    0.588162   \n",
       "PREVIOUS_RANGE                    0.488202                    0.490536   \n",
       "PREVIOUS_CHANGE                   0.060408                    0.040616   \n",
       "PREVIOUS_PRICE                    1.000000                    0.999752   \n",
       "price_rolling_mean_3_shift        0.999752                    1.000000   \n",
       "price_rolling_std_3_shift         0.416051                    0.416832   \n",
       "\n",
       "                            price_rolling_std_3_shift  \n",
       "Price                                        0.416116  \n",
       "Vol.                                        -0.007384  \n",
       "Change                                       0.009678  \n",
       "BOND_YIELD                                  -0.003509  \n",
       "FSI                                          0.157340  \n",
       "SAFE_ASSETS                                 -0.065176  \n",
       "CPI                                          0.070770  \n",
       "INFLATION                                   -0.001468  \n",
       "STRENGTH_INDEX                               0.159015  \n",
       "PREVIOUS_RANGE                               0.708705  \n",
       "PREVIOUS_CHANGE                             -0.002646  \n",
       "PREVIOUS_PRICE                               0.416051  \n",
       "price_rolling_mean_3_shift                   0.416832  \n",
       "price_rolling_std_3_shift                    1.000000  "
      ]
     },
     "execution_count": 34,
     "metadata": {},
     "output_type": "execute_result"
    }
   ],
   "source": [
    "gold_df.corr()"
   ]
  },
  {
   "cell_type": "code",
   "execution_count": 35,
   "id": "4f4fa921",
   "metadata": {},
   "outputs": [
    {
     "name": "stdout",
     "output_type": "stream",
     "text": [
      "Ridge Linear Regression Mean MSE: 137.6774\n",
      "Date\n",
      "2022-06-21      0.182724\n",
      "2022-06-22    -14.414562\n",
      "2022-06-23     29.589445\n",
      "2022-06-24    -19.363630\n",
      "2022-06-27     17.369066\n",
      "                 ...    \n",
      "2025-09-11    -73.402190\n",
      "2025-09-12   -121.947419\n",
      "2025-09-14    -42.776526\n",
      "2025-09-15   -187.689433\n",
      "2025-09-16   -111.235020\n",
      "Name: Change, Length: 836, dtype: float64\n",
      "Lasso Linear Regression Mean MSE: 137.6774\n",
      "Date\n",
      "2022-06-21      0.182724\n",
      "2022-06-22    -14.414562\n",
      "2022-06-23     29.589445\n",
      "2022-06-24    -19.363630\n",
      "2022-06-27     17.369066\n",
      "                 ...    \n",
      "2025-09-11    -73.402190\n",
      "2025-09-12   -121.947419\n",
      "2025-09-14    -42.776526\n",
      "2025-09-15   -187.689433\n",
      "2025-09-16   -111.235020\n",
      "Name: Change, Length: 836, dtype: float64\n"
     ]
    }
   ],
   "source": [
    "features = ['BOND_YIELD', 'FSI', 'SAFE_ASSETS', \n",
    "            'CPI', 'INFLATION', 'STRENGTH_INDEX', \n",
    "            'PREVIOUS_RANGE', 'PREVIOUS_CHANGE', 'PREVIOUS_PRICE','price_rolling_mean_3_shift','price_rolling_std_3_shift']\n",
    "target = 'Change'\n",
    "X = gold_df[features]\n",
    "y = gold_df[target]\n",
    "\n",
    "evaluate_model(ridge_pipeline, X, y, \"Ridge Linear Regression\")\n",
    "evaluate_model(ridge_pipeline, X, y, \"Lasso Linear Regression\")"
   ]
  },
  {
   "cell_type": "code",
   "execution_count": 36,
   "id": "9a11d376",
   "metadata": {},
   "outputs": [
    {
     "name": "stdout",
     "output_type": "stream",
     "text": [
      "XGBoost Regressor Mean MSE: 108.2258\n",
      "Date\n",
      "2022-06-21     14.142677\n",
      "2022-06-22      0.017263\n",
      "2022-06-23     42.692223\n",
      "2022-06-24     -3.627023\n",
      "2022-06-27     31.211510\n",
      "                 ...    \n",
      "2025-09-11    -24.149006\n",
      "2025-09-12    -45.198591\n",
      "2025-09-14     10.801537\n",
      "2025-09-15   -120.478500\n",
      "2025-09-16    -41.211309\n",
      "Name: Change, Length: 836, dtype: float64\n"
     ]
    }
   ],
   "source": [
    "from sklearn.model_selection import RandomizedSearchCV\n",
    "params = {\n",
    "    \"n_estimators\": [200, 400, 600],\n",
    "    \"max_depth\": [3, 4, 5],\n",
    "    \"learning_rate\": [0.01, 0.05, 0.1],\n",
    "    \"subsample\": [0.8, 1.0],\n",
    "    \"colsample_bytree\": [0.8, 1.0]\n",
    "}\n",
    "\n",
    "xgb = XGBRegressor(random_state=42)\n",
    "random = RandomizedSearchCV(xgb, param_distributions=params, cv=3, scoring=\"neg_mean_absolute_percentage_error\")\n",
    "\n",
    "evaluate_model(random, X, y, \"XGBoost Regressor\")"
   ]
  },
  {
   "cell_type": "code",
   "execution_count": null,
   "id": "28efc140",
   "metadata": {},
   "outputs": [],
   "source": []
  }
 ],
 "metadata": {
  "kernelspec": {
   "display_name": ".venv",
   "language": "python",
   "name": "python3"
  },
  "language_info": {
   "codemirror_mode": {
    "name": "ipython",
    "version": 3
   },
   "file_extension": ".py",
   "mimetype": "text/x-python",
   "name": "python",
   "nbconvert_exporter": "python",
   "pygments_lexer": "ipython3",
   "version": "3.13.5"
  }
 },
 "nbformat": 4,
 "nbformat_minor": 5
}
